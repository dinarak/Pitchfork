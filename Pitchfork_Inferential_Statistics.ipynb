{
 "cells": [
  {
   "cell_type": "markdown",
   "metadata": {},
   "source": [
    "# Goal: apply inferential statistics to the Pitchfork reviews dataset and explore correlations within it."
   ]
  },
  {
   "cell_type": "markdown",
   "metadata": {},
   "source": [
    "Music genres data is from here: https://www.kaggle.com/nolanbconaway/pitchfork-data <br>\n",
    "The rest of the data is from here (CSV file): https://drive.google.com/open?id=1e71-A3yuAuS0Ew0OipzZ65TATqOAZbOe"
   ]
  },
  {
   "cell_type": "markdown",
   "metadata": {},
   "source": [
    "# 1. Let's invesigate if Pitchfork gives certain genres statistically significantly higher scores."
   ]
  },
  {
   "cell_type": "code",
   "execution_count": 1,
   "metadata": {
    "collapsed": true
   },
   "outputs": [],
   "source": [
    "import pandas as pd\n",
    "import numpy as np\n",
    "from sqlalchemy import create_engine\n",
    "import matplotlib.pyplot as plt\n",
    "%matplotlib inline\n",
    "from matplotlib.pylab import rcParams\n",
    "rcParams['figure.figsize'] = 12, 10"
   ]
  },
  {
   "cell_type": "code",
   "execution_count": 2,
   "metadata": {},
   "outputs": [
    {
     "name": "stdout",
     "output_type": "stream",
     "text": [
      "<class 'pandas.core.frame.DataFrame'>\n",
      "RangeIndex: 22680 entries, 0 to 22679\n",
      "Data columns (total 2 columns):\n",
      "reviewid    22680 non-null int64\n",
      "genre       20313 non-null object\n",
      "dtypes: int64(1), object(1)\n",
      "memory usage: 354.5+ KB\n"
     ]
    }
   ],
   "source": [
    "engine = create_engine('sqlite:///database.sqlite')\n",
    "with engine.connect() as con:\n",
    "    result = con.execute('SELECT * FROM genres')\n",
    "    genres = pd.DataFrame(result.fetchall())\n",
    "    genres.columns = result.keys()\n",
    "genres.info()    "
   ]
  },
  {
   "cell_type": "code",
   "execution_count": 3,
   "metadata": {
    "collapsed": true
   },
   "outputs": [],
   "source": [
    "genres.dropna(inplace = True)"
   ]
  },
  {
   "cell_type": "code",
   "execution_count": 4,
   "metadata": {},
   "outputs": [
    {
     "data": {
      "text/plain": [
       "3"
      ]
     },
     "execution_count": 4,
     "metadata": {},
     "output_type": "execute_result"
    }
   ],
   "source": [
    "sum(genres.duplicated())"
   ]
  },
  {
   "cell_type": "code",
   "execution_count": 5,
   "metadata": {
    "collapsed": true
   },
   "outputs": [],
   "source": [
    "genres.drop_duplicates(inplace = True)"
   ]
  },
  {
   "cell_type": "code",
   "execution_count": 6,
   "metadata": {},
   "outputs": [
    {
     "data": {
      "text/html": [
       "<div>\n",
       "<table border=\"1\" class=\"dataframe\">\n",
       "  <thead>\n",
       "    <tr style=\"text-align: right;\">\n",
       "      <th></th>\n",
       "      <th>reviewid</th>\n",
       "      <th>genre</th>\n",
       "      <th>genre_experimental</th>\n",
       "      <th>genre_folk/country</th>\n",
       "      <th>genre_global</th>\n",
       "      <th>genre_jazz</th>\n",
       "      <th>genre_metal</th>\n",
       "      <th>genre_pop/r&amp;b</th>\n",
       "      <th>genre_rap</th>\n",
       "      <th>genre_rock</th>\n",
       "    </tr>\n",
       "  </thead>\n",
       "  <tbody>\n",
       "    <tr>\n",
       "      <th>0</th>\n",
       "      <td>22703</td>\n",
       "      <td>electronic</td>\n",
       "      <td>0</td>\n",
       "      <td>0</td>\n",
       "      <td>0</td>\n",
       "      <td>0</td>\n",
       "      <td>0</td>\n",
       "      <td>0</td>\n",
       "      <td>0</td>\n",
       "      <td>0</td>\n",
       "    </tr>\n",
       "    <tr>\n",
       "      <th>1</th>\n",
       "      <td>22721</td>\n",
       "      <td>metal</td>\n",
       "      <td>0</td>\n",
       "      <td>0</td>\n",
       "      <td>0</td>\n",
       "      <td>0</td>\n",
       "      <td>1</td>\n",
       "      <td>0</td>\n",
       "      <td>0</td>\n",
       "      <td>0</td>\n",
       "    </tr>\n",
       "    <tr>\n",
       "      <th>2</th>\n",
       "      <td>22659</td>\n",
       "      <td>rock</td>\n",
       "      <td>0</td>\n",
       "      <td>0</td>\n",
       "      <td>0</td>\n",
       "      <td>0</td>\n",
       "      <td>0</td>\n",
       "      <td>0</td>\n",
       "      <td>0</td>\n",
       "      <td>1</td>\n",
       "    </tr>\n",
       "    <tr>\n",
       "      <th>3</th>\n",
       "      <td>22661</td>\n",
       "      <td>rock</td>\n",
       "      <td>0</td>\n",
       "      <td>0</td>\n",
       "      <td>0</td>\n",
       "      <td>0</td>\n",
       "      <td>0</td>\n",
       "      <td>0</td>\n",
       "      <td>0</td>\n",
       "      <td>1</td>\n",
       "    </tr>\n",
       "    <tr>\n",
       "      <th>4</th>\n",
       "      <td>22725</td>\n",
       "      <td>electronic</td>\n",
       "      <td>0</td>\n",
       "      <td>0</td>\n",
       "      <td>0</td>\n",
       "      <td>0</td>\n",
       "      <td>0</td>\n",
       "      <td>0</td>\n",
       "      <td>0</td>\n",
       "      <td>0</td>\n",
       "    </tr>\n",
       "  </tbody>\n",
       "</table>\n",
       "</div>"
      ],
      "text/plain": [
       "   reviewid       genre  genre_experimental  genre_folk/country  genre_global  \\\n",
       "0     22703  electronic                   0                   0             0   \n",
       "1     22721       metal                   0                   0             0   \n",
       "2     22659        rock                   0                   0             0   \n",
       "3     22661        rock                   0                   0             0   \n",
       "4     22725  electronic                   0                   0             0   \n",
       "\n",
       "   genre_jazz  genre_metal  genre_pop/r&b  genre_rap  genre_rock  \n",
       "0           0            0              0          0           0  \n",
       "1           0            1              0          0           0  \n",
       "2           0            0              0          0           1  \n",
       "3           0            0              0          0           1  \n",
       "4           0            0              0          0           0  "
      ]
     },
     "execution_count": 6,
     "metadata": {},
     "output_type": "execute_result"
    }
   ],
   "source": [
    "dummies_genres = pd.get_dummies(genres['genre'], prefix = 'genre', drop_first = True)\n",
    "# append dummy variables for each genre to genres dataframe\n",
    "genres_w_dummies = genres.join(dummies_genres)\n",
    "genres_w_dummies.head()"
   ]
  },
  {
   "cell_type": "markdown",
   "metadata": {},
   "source": [
    "Make a genres dataframe where each row corresponds to a unique review ID."
   ]
  },
  {
   "cell_type": "code",
   "execution_count": 13,
   "metadata": {},
   "outputs": [],
   "source": [
    "genres_to_merge = genres_w_dummies.groupby('reviewid').sum()"
   ]
  },
  {
   "cell_type": "code",
   "execution_count": 14,
   "metadata": {},
   "outputs": [
    {
     "name": "stdout",
     "output_type": "stream",
     "text": [
      "<class 'pandas.core.frame.DataFrame'>\n",
      "RangeIndex: 18379 entries, 0 to 18378\n",
      "Data columns (total 19 columns):\n",
      "Unnamed: 0        18379 non-null int64\n",
      "Unnamed: 0.1      18379 non-null int64\n",
      "reviewid_main     18379 non-null int64\n",
      "content           18379 non-null object\n",
      "genre             16015 non-null object\n",
      "label             18332 non-null object\n",
      "title             18379 non-null object\n",
      "artist            18379 non-null object\n",
      "url               18379 non-null object\n",
      "score             18379 non-null float64\n",
      "best_new_music    18379 non-null int64\n",
      "author            18379 non-null object\n",
      "author_type       14478 non-null object\n",
      "pub_date          18379 non-null datetime64[ns]\n",
      "pub_weekday       18379 non-null int64\n",
      "pub_day           18379 non-null int64\n",
      "pub_month         18379 non-null int64\n",
      "pub_year          18379 non-null int64\n",
      "year              17973 non-null float64\n",
      "dtypes: datetime64[ns](1), float64(2), int64(8), object(8)\n",
      "memory usage: 2.7+ MB\n"
     ]
    }
   ],
   "source": [
    "pf_df = pd.read_csv('pitchfork_data_no_miss_artist_title_2018-04-02.csv', parse_dates = ['pub_date'], encoding=\"ISO-8859-1\")\n",
    "pf_df.info()"
   ]
  },
  {
   "cell_type": "code",
   "execution_count": 15,
   "metadata": {
    "collapsed": true
   },
   "outputs": [],
   "source": [
    "pf_df.drop(['Unnamed: 0', 'Unnamed: 0.1'], axis = 1, inplace = True)"
   ]
  },
  {
   "cell_type": "code",
   "execution_count": 16,
   "metadata": {},
   "outputs": [
    {
     "name": "stdout",
     "output_type": "stream",
     "text": [
      "<class 'pandas.core.frame.DataFrame'>\n",
      "Int64Index: 18379 entries, 1 to 22745\n",
      "Data columns (total 16 columns):\n",
      "content           18379 non-null object\n",
      "genre             16015 non-null object\n",
      "label             18332 non-null object\n",
      "title             18379 non-null object\n",
      "artist            18379 non-null object\n",
      "url               18379 non-null object\n",
      "score             18379 non-null float64\n",
      "best_new_music    18379 non-null int64\n",
      "author            18379 non-null object\n",
      "author_type       14478 non-null object\n",
      "pub_date          18379 non-null datetime64[ns]\n",
      "pub_weekday       18379 non-null int64\n",
      "pub_day           18379 non-null int64\n",
      "pub_month         18379 non-null int64\n",
      "pub_year          18379 non-null int64\n",
      "year              17973 non-null float64\n",
      "dtypes: datetime64[ns](1), float64(2), int64(5), object(8)\n",
      "memory usage: 2.4+ MB\n"
     ]
    }
   ],
   "source": [
    "pf_df.set_index('reviewid_main', inplace = True)\n",
    "pf_df.info()"
   ]
  },
  {
   "cell_type": "code",
   "execution_count": 17,
   "metadata": {
    "collapsed": true
   },
   "outputs": [
    {
     "data": {
      "text/html": [
       "<div>\n",
       "<table border=\"1\" class=\"dataframe\">\n",
       "  <thead>\n",
       "    <tr style=\"text-align: right;\">\n",
       "      <th></th>\n",
       "      <th>content</th>\n",
       "      <th>genre</th>\n",
       "      <th>label</th>\n",
       "      <th>title</th>\n",
       "      <th>artist</th>\n",
       "      <th>url</th>\n",
       "      <th>score</th>\n",
       "      <th>best_new_music</th>\n",
       "      <th>author</th>\n",
       "      <th>author_type</th>\n",
       "      <th>...</th>\n",
       "      <th>pub_year</th>\n",
       "      <th>year</th>\n",
       "      <th>genre_experimental</th>\n",
       "      <th>genre_folk/country</th>\n",
       "      <th>genre_global</th>\n",
       "      <th>genre_jazz</th>\n",
       "      <th>genre_metal</th>\n",
       "      <th>genre_pop/r&amp;b</th>\n",
       "      <th>genre_rap</th>\n",
       "      <th>genre_rock</th>\n",
       "    </tr>\n",
       "    <tr>\n",
       "      <th>reviewid_main</th>\n",
       "      <th></th>\n",
       "      <th></th>\n",
       "      <th></th>\n",
       "      <th></th>\n",
       "      <th></th>\n",
       "      <th></th>\n",
       "      <th></th>\n",
       "      <th></th>\n",
       "      <th></th>\n",
       "      <th></th>\n",
       "      <th></th>\n",
       "      <th></th>\n",
       "      <th></th>\n",
       "      <th></th>\n",
       "      <th></th>\n",
       "      <th></th>\n",
       "      <th></th>\n",
       "      <th></th>\n",
       "      <th></th>\n",
       "      <th></th>\n",
       "      <th></th>\n",
       "    </tr>\n",
       "  </thead>\n",
       "  <tbody>\n",
       "    <tr>\n",
       "      <th>1</th>\n",
       "      <td>Aberfeldy recorded their debut, Young Forever,...</td>\n",
       "      <td>rock</td>\n",
       "      <td>rough trade</td>\n",
       "      <td>young forever</td>\n",
       "      <td>aberfeldy</td>\n",
       "      <td>http://pitchfork.com/reviews/albums/1-young-fo...</td>\n",
       "      <td>3.4</td>\n",
       "      <td>0</td>\n",
       "      <td>marc hogan</td>\n",
       "      <td>senior staff writer</td>\n",
       "      <td>...</td>\n",
       "      <td>2004</td>\n",
       "      <td>2004.0</td>\n",
       "      <td>0.0</td>\n",
       "      <td>0.0</td>\n",
       "      <td>0.0</td>\n",
       "      <td>0.0</td>\n",
       "      <td>0.0</td>\n",
       "      <td>0.0</td>\n",
       "      <td>0.0</td>\n",
       "      <td>1.0</td>\n",
       "    </tr>\n",
       "    <tr>\n",
       "      <th>6</th>\n",
       "      <td>Can there be any purpose behind a master's deg...</td>\n",
       "      <td>electronic</td>\n",
       "      <td>silber</td>\n",
       "      <td>pure tone audiometry</td>\n",
       "      <td>aarktica</td>\n",
       "      <td>http://pitchfork.com/reviews/albums/6-pure-ton...</td>\n",
       "      <td>7.4</td>\n",
       "      <td>0</td>\n",
       "      <td>eric carr</td>\n",
       "      <td>contributor</td>\n",
       "      <td>...</td>\n",
       "      <td>2003</td>\n",
       "      <td>2003.0</td>\n",
       "      <td>0.0</td>\n",
       "      <td>0.0</td>\n",
       "      <td>0.0</td>\n",
       "      <td>0.0</td>\n",
       "      <td>0.0</td>\n",
       "      <td>0.0</td>\n",
       "      <td>0.0</td>\n",
       "      <td>0.0</td>\n",
       "    </tr>\n",
       "    <tr>\n",
       "      <th>7</th>\n",
       "      <td>Funny what gets tagged for popular comebacks t...</td>\n",
       "      <td>electronic</td>\n",
       "      <td>darla</td>\n",
       "      <td>or you could just go through your whole life a...</td>\n",
       "      <td>aarktica</td>\n",
       "      <td>http://pitchfork.com/reviews/albums/7-or-you-c...</td>\n",
       "      <td>8.1</td>\n",
       "      <td>0</td>\n",
       "      <td>christopher dare</td>\n",
       "      <td>NaN</td>\n",
       "      <td>...</td>\n",
       "      <td>2002</td>\n",
       "      <td>2002.0</td>\n",
       "      <td>0.0</td>\n",
       "      <td>0.0</td>\n",
       "      <td>0.0</td>\n",
       "      <td>0.0</td>\n",
       "      <td>0.0</td>\n",
       "      <td>0.0</td>\n",
       "      <td>0.0</td>\n",
       "      <td>0.0</td>\n",
       "    </tr>\n",
       "    <tr>\n",
       "      <th>8</th>\n",
       "      <td>Aarktica didn't seem to know what he was on 20...</td>\n",
       "      <td>electronic</td>\n",
       "      <td>darla</td>\n",
       "      <td>bleeding light</td>\n",
       "      <td>aarktica</td>\n",
       "      <td>http://pitchfork.com/reviews/albums/8-bleeding...</td>\n",
       "      <td>7.2</td>\n",
       "      <td>0</td>\n",
       "      <td>sam ubl</td>\n",
       "      <td>NaN</td>\n",
       "      <td>...</td>\n",
       "      <td>2005</td>\n",
       "      <td>2005.0</td>\n",
       "      <td>0.0</td>\n",
       "      <td>0.0</td>\n",
       "      <td>0.0</td>\n",
       "      <td>0.0</td>\n",
       "      <td>0.0</td>\n",
       "      <td>0.0</td>\n",
       "      <td>0.0</td>\n",
       "      <td>0.0</td>\n",
       "    </tr>\n",
       "    <tr>\n",
       "      <th>10</th>\n",
       "      <td>ABCS are all about unity.  Their bandname come...</td>\n",
       "      <td>jazz</td>\n",
       "      <td>troubleman unlimited</td>\n",
       "      <td>abcs</td>\n",
       "      <td>abcs</td>\n",
       "      <td>http://pitchfork.com/reviews/albums/10-abcs/</td>\n",
       "      <td>8.0</td>\n",
       "      <td>0</td>\n",
       "      <td>michael bernstein</td>\n",
       "      <td>NaN</td>\n",
       "      <td>...</td>\n",
       "      <td>2002</td>\n",
       "      <td>2002.0</td>\n",
       "      <td>0.0</td>\n",
       "      <td>0.0</td>\n",
       "      <td>0.0</td>\n",
       "      <td>1.0</td>\n",
       "      <td>0.0</td>\n",
       "      <td>0.0</td>\n",
       "      <td>0.0</td>\n",
       "      <td>0.0</td>\n",
       "    </tr>\n",
       "  </tbody>\n",
       "</table>\n",
       "<p>5 rows × 24 columns</p>\n",
       "</div>"
      ],
      "text/plain": [
       "                                                         content       genre  \\\n",
       "reviewid_main                                                                  \n",
       "1              Aberfeldy recorded their debut, Young Forever,...        rock   \n",
       "6              Can there be any purpose behind a master's deg...  electronic   \n",
       "7              Funny what gets tagged for popular comebacks t...  electronic   \n",
       "8              Aarktica didn't seem to know what he was on 20...  electronic   \n",
       "10             ABCS are all about unity.  Their bandname come...        jazz   \n",
       "\n",
       "                              label  \\\n",
       "reviewid_main                         \n",
       "1                       rough trade   \n",
       "6                            silber   \n",
       "7                             darla   \n",
       "8                             darla   \n",
       "10             troubleman unlimited   \n",
       "\n",
       "                                                           title     artist  \\\n",
       "reviewid_main                                                                 \n",
       "1                                                  young forever  aberfeldy   \n",
       "6                                           pure tone audiometry   aarktica   \n",
       "7              or you could just go through your whole life a...   aarktica   \n",
       "8                                                 bleeding light   aarktica   \n",
       "10                                                          abcs       abcs   \n",
       "\n",
       "                                                             url  score  \\\n",
       "reviewid_main                                                             \n",
       "1              http://pitchfork.com/reviews/albums/1-young-fo...    3.4   \n",
       "6              http://pitchfork.com/reviews/albums/6-pure-ton...    7.4   \n",
       "7              http://pitchfork.com/reviews/albums/7-or-you-c...    8.1   \n",
       "8              http://pitchfork.com/reviews/albums/8-bleeding...    7.2   \n",
       "10                  http://pitchfork.com/reviews/albums/10-abcs/    8.0   \n",
       "\n",
       "               best_new_music             author          author_type  \\\n",
       "reviewid_main                                                           \n",
       "1                           0         marc hogan  senior staff writer   \n",
       "6                           0          eric carr          contributor   \n",
       "7                           0   christopher dare                  NaN   \n",
       "8                           0            sam ubl                  NaN   \n",
       "10                          0  michael bernstein                  NaN   \n",
       "\n",
       "                  ...     pub_year    year  genre_experimental  \\\n",
       "reviewid_main     ...                                            \n",
       "1                 ...         2004  2004.0                 0.0   \n",
       "6                 ...         2003  2003.0                 0.0   \n",
       "7                 ...         2002  2002.0                 0.0   \n",
       "8                 ...         2005  2005.0                 0.0   \n",
       "10                ...         2002  2002.0                 0.0   \n",
       "\n",
       "               genre_folk/country  genre_global  genre_jazz  genre_metal  \\\n",
       "reviewid_main                                                              \n",
       "1                             0.0           0.0         0.0          0.0   \n",
       "6                             0.0           0.0         0.0          0.0   \n",
       "7                             0.0           0.0         0.0          0.0   \n",
       "8                             0.0           0.0         0.0          0.0   \n",
       "10                            0.0           0.0         1.0          0.0   \n",
       "\n",
       "               genre_pop/r&b  genre_rap  genre_rock  \n",
       "reviewid_main                                        \n",
       "1                        0.0        0.0         1.0  \n",
       "6                        0.0        0.0         0.0  \n",
       "7                        0.0        0.0         0.0  \n",
       "8                        0.0        0.0         0.0  \n",
       "10                       0.0        0.0         0.0  \n",
       "\n",
       "[5 rows x 24 columns]"
      ]
     },
     "execution_count": 17,
     "metadata": {},
     "output_type": "execute_result"
    }
   ],
   "source": [
    "pf_all_genres = pf_df.join(genres_to_merge)\n",
    "pf_all_genres.head()"
   ]
  },
  {
   "cell_type": "code",
   "execution_count": 18,
   "metadata": {},
   "outputs": [
    {
     "name": "stdout",
     "output_type": "stream",
     "text": [
      "<class 'pandas.core.frame.DataFrame'>\n",
      "Int64Index: 16015 entries, 1 to 22745\n",
      "Data columns (total 24 columns):\n",
      "content               16015 non-null object\n",
      "genre                 16015 non-null object\n",
      "label                 15969 non-null object\n",
      "title                 16015 non-null object\n",
      "artist                16015 non-null object\n",
      "url                   16015 non-null object\n",
      "score                 16015 non-null float64\n",
      "best_new_music        16015 non-null int64\n",
      "author                16015 non-null object\n",
      "author_type           12528 non-null object\n",
      "pub_date              16015 non-null datetime64[ns]\n",
      "pub_weekday           16015 non-null int64\n",
      "pub_day               16015 non-null int64\n",
      "pub_month             16015 non-null int64\n",
      "pub_year              16015 non-null int64\n",
      "year                  15650 non-null float64\n",
      "genre_experimental    16015 non-null float64\n",
      "genre_folk/country    16015 non-null float64\n",
      "genre_global          16015 non-null float64\n",
      "genre_jazz            16015 non-null float64\n",
      "genre_metal           16015 non-null float64\n",
      "genre_pop/r&b         16015 non-null float64\n",
      "genre_rap             16015 non-null float64\n",
      "genre_rock            16015 non-null float64\n",
      "dtypes: datetime64[ns](1), float64(10), int64(5), object(8)\n",
      "memory usage: 3.1+ MB\n"
     ]
    }
   ],
   "source": [
    "pf_all_genres.dropna(subset = ['genre'], axis = 0, inplace = True)\n",
    "pf_all_genres.info()"
   ]
  },
  {
   "cell_type": "code",
   "execution_count": 19,
   "metadata": {
    "scrolled": true
   },
   "outputs": [
    {
     "name": "stderr",
     "output_type": "stream",
     "text": [
      "C:\\Users\\Dinara\\Anaconda3\\lib\\site-packages\\IPython\\html.py:14: ShimWarning: The `IPython.html` package has been deprecated. You should import from `notebook` instead. `IPython.html.widgets` has moved to `ipywidgets`.\n",
      "  \"`IPython.html.widgets` has moved to `ipywidgets`.\", ShimWarning)\n"
     ]
    }
   ],
   "source": [
    "import seaborn as sns"
   ]
  },
  {
   "cell_type": "code",
   "execution_count": 20,
   "metadata": {
    "collapsed": true
   },
   "outputs": [],
   "source": [
    "pf_relevant_col = pf_all_genres[['score', 'genre_experimental', 'genre_folk/country',\n",
    "       'genre_global', 'genre_jazz', 'genre_metal', 'genre_pop/r&b',\n",
    "       'genre_rap', 'genre_rock']]"
   ]
  },
  {
   "cell_type": "code",
   "execution_count": 21,
   "metadata": {},
   "outputs": [
    {
     "data": {
      "text/plain": [
       "<matplotlib.axes._subplots.AxesSubplot at 0x2654fcf6940>"
      ]
     },
     "execution_count": 21,
     "metadata": {},
     "output_type": "execute_result"
    },
    {
     "data": {
      "image/png": "[encoded data removed]",
      "text/plain": [
       "<matplotlib.figure.Figure at 0x2654fcf60f0>"
      ]
     },
     "metadata": {},
     "output_type": "display_data"
    }
   ],
   "source": [
    "sns.heatmap(pf_relevant_col.corr())"
   ]
  },
  {
   "cell_type": "code",
   "execution_count": 22,
   "metadata": {},
   "outputs": [
    {
     "data": {
      "text/html": [
       "<div>\n",
       "<table border=\"1\" class=\"dataframe\">\n",
       "  <thead>\n",
       "    <tr style=\"text-align: right;\">\n",
       "      <th></th>\n",
       "      <th>score</th>\n",
       "      <th>genre_experimental</th>\n",
       "      <th>genre_folk/country</th>\n",
       "      <th>genre_global</th>\n",
       "      <th>genre_jazz</th>\n",
       "      <th>genre_metal</th>\n",
       "      <th>genre_pop/r&amp;b</th>\n",
       "      <th>genre_rap</th>\n",
       "      <th>genre_rock</th>\n",
       "    </tr>\n",
       "  </thead>\n",
       "  <tbody>\n",
       "    <tr>\n",
       "      <th>score</th>\n",
       "      <td>1.000000</td>\n",
       "      <td>0.091040</td>\n",
       "      <td>0.032102</td>\n",
       "      <td>0.038716</td>\n",
       "      <td>0.038425</td>\n",
       "      <td>-0.010486</td>\n",
       "      <td>-0.028654</td>\n",
       "      <td>-0.026193</td>\n",
       "      <td>-0.056711</td>\n",
       "    </tr>\n",
       "    <tr>\n",
       "      <th>genre_experimental</th>\n",
       "      <td>0.091040</td>\n",
       "      <td>1.000000</td>\n",
       "      <td>-0.060890</td>\n",
       "      <td>-0.007586</td>\n",
       "      <td>0.032477</td>\n",
       "      <td>-0.029039</td>\n",
       "      <td>-0.089772</td>\n",
       "      <td>-0.105993</td>\n",
       "      <td>0.021654</td>\n",
       "    </tr>\n",
       "    <tr>\n",
       "      <th>genre_folk/country</th>\n",
       "      <td>0.032102</td>\n",
       "      <td>-0.060890</td>\n",
       "      <td>1.000000</td>\n",
       "      <td>-0.005990</td>\n",
       "      <td>-0.023931</td>\n",
       "      <td>-0.036628</td>\n",
       "      <td>0.004103</td>\n",
       "      <td>-0.067336</td>\n",
       "      <td>-0.220348</td>\n",
       "    </tr>\n",
       "    <tr>\n",
       "      <th>genre_global</th>\n",
       "      <td>0.038716</td>\n",
       "      <td>-0.007586</td>\n",
       "      <td>-0.005990</td>\n",
       "      <td>1.000000</td>\n",
       "      <td>0.023754</td>\n",
       "      <td>-0.027837</td>\n",
       "      <td>0.054463</td>\n",
       "      <td>-0.032920</td>\n",
       "      <td>-0.103618</td>\n",
       "    </tr>\n",
       "    <tr>\n",
       "      <th>genre_jazz</th>\n",
       "      <td>0.038425</td>\n",
       "      <td>0.032477</td>\n",
       "      <td>-0.023931</td>\n",
       "      <td>0.023754</td>\n",
       "      <td>1.000000</td>\n",
       "      <td>0.004548</td>\n",
       "      <td>0.017682</td>\n",
       "      <td>-0.022477</td>\n",
       "      <td>-0.155460</td>\n",
       "    </tr>\n",
       "    <tr>\n",
       "      <th>genre_metal</th>\n",
       "      <td>-0.010486</td>\n",
       "      <td>-0.029039</td>\n",
       "      <td>-0.036628</td>\n",
       "      <td>-0.027837</td>\n",
       "      <td>0.004548</td>\n",
       "      <td>1.000000</td>\n",
       "      <td>-0.062915</td>\n",
       "      <td>-0.052938</td>\n",
       "      <td>-0.031992</td>\n",
       "    </tr>\n",
       "    <tr>\n",
       "      <th>genre_pop/r&amp;b</th>\n",
       "      <td>-0.028654</td>\n",
       "      <td>-0.089772</td>\n",
       "      <td>0.004103</td>\n",
       "      <td>0.054463</td>\n",
       "      <td>0.017682</td>\n",
       "      <td>-0.062915</td>\n",
       "      <td>1.000000</td>\n",
       "      <td>-0.004654</td>\n",
       "      <td>-0.319243</td>\n",
       "    </tr>\n",
       "    <tr>\n",
       "      <th>genre_rap</th>\n",
       "      <td>-0.026193</td>\n",
       "      <td>-0.105993</td>\n",
       "      <td>-0.067336</td>\n",
       "      <td>-0.032920</td>\n",
       "      <td>-0.022477</td>\n",
       "      <td>-0.052938</td>\n",
       "      <td>-0.004654</td>\n",
       "      <td>1.000000</td>\n",
       "      <td>-0.363875</td>\n",
       "    </tr>\n",
       "    <tr>\n",
       "      <th>genre_rock</th>\n",
       "      <td>-0.056711</td>\n",
       "      <td>0.021654</td>\n",
       "      <td>-0.220348</td>\n",
       "      <td>-0.103618</td>\n",
       "      <td>-0.155460</td>\n",
       "      <td>-0.031992</td>\n",
       "      <td>-0.319243</td>\n",
       "      <td>-0.363875</td>\n",
       "      <td>1.000000</td>\n",
       "    </tr>\n",
       "  </tbody>\n",
       "</table>\n",
       "</div>"
      ],
      "text/plain": [
       "                       score  genre_experimental  genre_folk/country  \\\n",
       "score               1.000000            0.091040            0.032102   \n",
       "genre_experimental  0.091040            1.000000           -0.060890   \n",
       "genre_folk/country  0.032102           -0.060890            1.000000   \n",
       "genre_global        0.038716           -0.007586           -0.005990   \n",
       "genre_jazz          0.038425            0.032477           -0.023931   \n",
       "genre_metal        -0.010486           -0.029039           -0.036628   \n",
       "genre_pop/r&b      -0.028654           -0.089772            0.004103   \n",
       "genre_rap          -0.026193           -0.105993           -0.067336   \n",
       "genre_rock         -0.056711            0.021654           -0.220348   \n",
       "\n",
       "                    genre_global  genre_jazz  genre_metal  genre_pop/r&b  \\\n",
       "score                   0.038716    0.038425    -0.010486      -0.028654   \n",
       "genre_experimental     -0.007586    0.032477    -0.029039      -0.089772   \n",
       "genre_folk/country     -0.005990   -0.023931    -0.036628       0.004103   \n",
       "genre_global            1.000000    0.023754    -0.027837       0.054463   \n",
       "genre_jazz              0.023754    1.000000     0.004548       0.017682   \n",
       "genre_metal            -0.027837    0.004548     1.000000      -0.062915   \n",
       "genre_pop/r&b           0.054463    0.017682    -0.062915       1.000000   \n",
       "genre_rap              -0.032920   -0.022477    -0.052938      -0.004654   \n",
       "genre_rock             -0.103618   -0.155460    -0.031992      -0.319243   \n",
       "\n",
       "                    genre_rap  genre_rock  \n",
       "score               -0.026193   -0.056711  \n",
       "genre_experimental  -0.105993    0.021654  \n",
       "genre_folk/country  -0.067336   -0.220348  \n",
       "genre_global        -0.032920   -0.103618  \n",
       "genre_jazz          -0.022477   -0.155460  \n",
       "genre_metal         -0.052938   -0.031992  \n",
       "genre_pop/r&b       -0.004654   -0.319243  \n",
       "genre_rap            1.000000   -0.363875  \n",
       "genre_rock          -0.363875    1.000000  "
      ]
     },
     "execution_count": 22,
     "metadata": {},
     "output_type": "execute_result"
    }
   ],
   "source": [
    "pf_relevant_col.corr()"
   ]
  },
  {
   "cell_type": "markdown",
   "metadata": {},
   "source": [
    "Experimental genre has the highest correlation with the review score, i.e. experimental genre tends to have higher review scores on average than other genres. Let's check if that difference is statistically significant."
   ]
  },
  {
   "cell_type": "code",
   "execution_count": 23,
   "metadata": {
    "collapsed": true
   },
   "outputs": [],
   "source": [
    "def scores_partition(df, catvar, measurement, catvarvals):\n",
    "    \"\"\"Partition the measurements based on the values in the catvar column that are in catvarvals\n",
    "    df: dataframe\n",
    "    catvar: name of categorical variable in the dataframe that is to be checked \n",
    "    catvarvals: a list of catvar values on which to partition the rows of dataframe df\n",
    "    measurement: the name of the continuous variable to be sliced from the partitioned dataframe\n",
    "    \"\"\"\n",
    "    array_1 = np.array(df[df[catvar].isin(catvarvals)][measurement])\n",
    "    array_2 = np.array(df[-df[catvar].isin(catvarvals)][measurement])\n",
    "    return array_1, array_2"
   ]
  },
  {
   "cell_type": "code",
   "execution_count": 24,
   "metadata": {
    "collapsed": true
   },
   "outputs": [],
   "source": [
    "from scipy import stats\n",
    "import math"
   ]
  },
  {
   "cell_type": "code",
   "execution_count": 25,
   "metadata": {
    "collapsed": true
   },
   "outputs": [],
   "source": [
    "def two_sample_z(sample1, sample2):\n",
    "    \"\"\"Calculate two-sample z-score\"\"\"\n",
    "    return (sample1.mean() - sample2.mean()) / (math.sqrt(sample1.std()**2/len(sample1) + sample2.std()**2/len(sample2)))"
   ]
  },
  {
   "cell_type": "code",
   "execution_count": 26,
   "metadata": {},
   "outputs": [
    {
     "data": {
      "text/plain": [
       "array([8.4, 8.9, 8.2, 8.3, 6.8])"
      ]
     },
     "execution_count": 26,
     "metadata": {},
     "output_type": "execute_result"
    }
   ],
   "source": [
    "exp_scores, non_exp_scores = scores_partition(pf_relevant_col, 'genre_experimental', 'score', [1])\n",
    "exp_scores[:5]"
   ]
  },
  {
   "cell_type": "code",
   "execution_count": 30,
   "metadata": {},
   "outputs": [
    {
     "name": "stdout",
     "output_type": "stream",
     "text": [
      "z-score =  13.244405059833037\n"
     ]
    }
   ],
   "source": [
    "z_exp = two_sample_z(exp_scores, non_exp_scores)\n",
    "print(\"z-score = \", z_exp)"
   ]
  },
  {
   "cell_type": "code",
   "execution_count": 31,
   "metadata": {
    "scrolled": true
   },
   "outputs": [
    {
     "name": "stdout",
     "output_type": "stream",
     "text": [
      "p-val =  2.4305937011431297e-40\n"
     ]
    }
   ],
   "source": [
    "print('p-val = ', stats.norm.sf(z_exp)) "
   ]
  },
  {
   "cell_type": "markdown",
   "metadata": {},
   "source": [
    "## The difference in score means for albums of experimental genre versus albums of other genres is statistically significant."
   ]
  },
  {
   "cell_type": "markdown",
   "metadata": {},
   "source": [
    "# 2. Let's try performing a sentiment analysis on the album titles and see if that has any bearing on the review scores."
   ]
  },
  {
   "cell_type": "code",
   "execution_count": 32,
   "metadata": {},
   "outputs": [
    {
     "data": {
      "text/plain": [
       "reviewid_main\n",
       "1                     (0.1, 0.4)\n",
       "6     (0.21428571428571427, 0.5)\n",
       "7                     (0.5, 0.7)\n",
       "8                     (0.4, 0.7)\n",
       "10                    (0.0, 0.0)\n",
       "Name: title, dtype: object"
      ]
     },
     "execution_count": 32,
     "metadata": {},
     "output_type": "execute_result"
    }
   ],
   "source": [
    "from textblob import TextBlob\n",
    "\n",
    "title_sentiment = (pf_all_genres['title']).apply(lambda x: TextBlob(x).sentiment)\n",
    "title_sentiment[:5]"
   ]
  },
  {
   "cell_type": "code",
   "execution_count": 33,
   "metadata": {
    "collapsed": true
   },
   "outputs": [
    {
     "name": "stdout",
     "output_type": "stream",
     "text": [
      "<class 'pandas.core.frame.DataFrame'>\n",
      "Int64Index: 16015 entries, 1 to 22745\n",
      "Data columns (total 26 columns):\n",
      "content               16015 non-null object\n",
      "genre                 16015 non-null object\n",
      "label                 15969 non-null object\n",
      "title                 16015 non-null object\n",
      "artist                16015 non-null object\n",
      "url                   16015 non-null object\n",
      "score                 16015 non-null float64\n",
      "best_new_music        16015 non-null int64\n",
      "author                16015 non-null object\n",
      "author_type           12528 non-null object\n",
      "pub_date              16015 non-null datetime64[ns]\n",
      "pub_weekday           16015 non-null int64\n",
      "pub_day               16015 non-null int64\n",
      "pub_month             16015 non-null int64\n",
      "pub_year              16015 non-null int64\n",
      "year                  15650 non-null float64\n",
      "genre_experimental    16015 non-null float64\n",
      "genre_folk/country    16015 non-null float64\n",
      "genre_global          16015 non-null float64\n",
      "genre_jazz            16015 non-null float64\n",
      "genre_metal           16015 non-null float64\n",
      "genre_pop/r&b         16015 non-null float64\n",
      "genre_rap             16015 non-null float64\n",
      "genre_rock            16015 non-null float64\n",
      "title_subj            16015 non-null float64\n",
      "title_pol             16015 non-null float64\n",
      "dtypes: datetime64[ns](1), float64(12), int64(5), object(8)\n",
      "memory usage: 3.3+ MB\n"
     ]
    }
   ],
   "source": [
    "pf_all_genres['title_subj'] = title_sentiment.map(lambda x: x.subjectivity)\n",
    "pf_all_genres['title_pol'] = title_sentiment.map(lambda x: x.polarity)\n",
    "pf_all_genres.info()"
   ]
  },
  {
   "cell_type": "code",
   "execution_count": 35,
   "metadata": {},
   "outputs": [
    {
     "data": {
      "text/html": [
       "<div>\n",
       "<table border=\"1\" class=\"dataframe\">\n",
       "  <thead>\n",
       "    <tr style=\"text-align: right;\">\n",
       "      <th></th>\n",
       "      <th>score</th>\n",
       "      <th>title_subj</th>\n",
       "      <th>title_pol</th>\n",
       "    </tr>\n",
       "  </thead>\n",
       "  <tbody>\n",
       "    <tr>\n",
       "      <th>score</th>\n",
       "      <td>1.000000</td>\n",
       "      <td>0.023072</td>\n",
       "      <td>0.006612</td>\n",
       "    </tr>\n",
       "    <tr>\n",
       "      <th>title_subj</th>\n",
       "      <td>0.023072</td>\n",
       "      <td>1.000000</td>\n",
       "      <td>0.270756</td>\n",
       "    </tr>\n",
       "    <tr>\n",
       "      <th>title_pol</th>\n",
       "      <td>0.006612</td>\n",
       "      <td>0.270756</td>\n",
       "      <td>1.000000</td>\n",
       "    </tr>\n",
       "  </tbody>\n",
       "</table>\n",
       "</div>"
      ],
      "text/plain": [
       "               score  title_subj  title_pol\n",
       "score       1.000000    0.023072   0.006612\n",
       "title_subj  0.023072    1.000000   0.270756\n",
       "title_pol   0.006612    0.270756   1.000000"
      ]
     },
     "execution_count": 35,
     "metadata": {},
     "output_type": "execute_result"
    }
   ],
   "source": [
    "pf_all_genres[['score', 'title_subj', 'title_pol']].corr()"
   ]
  },
  {
   "cell_type": "markdown",
   "metadata": {},
   "source": [
    "## Sentiment of album titles does not seem to have a significant bearing on the score."
   ]
  },
  {
   "cell_type": "markdown",
   "metadata": {},
   "source": [
    "# 3. Let's see if Pitchfork tends to give higher review scores to certain music labels."
   ]
  },
  {
   "cell_type": "code",
   "execution_count": 36,
   "metadata": {},
   "outputs": [
    {
     "data": {
      "text/plain": [
       "count    16015.000000\n",
       "mean         7.004396\n",
       "std          1.302481\n",
       "min          0.000000\n",
       "25%          6.400000\n",
       "50%          7.200000\n",
       "75%          7.800000\n",
       "max         10.000000\n",
       "Name: score, dtype: float64"
      ]
     },
     "execution_count": 36,
     "metadata": {},
     "output_type": "execute_result"
    }
   ],
   "source": [
    "pf_all_genres['score'].describe()"
   ]
  },
  {
   "cell_type": "code",
   "execution_count": 37,
   "metadata": {
    "collapsed": true
   },
   "outputs": [],
   "source": [
    "all_label_stats = pf_all_genres.groupby('label', as_index = False)['score'].agg({'score': ['mean', 'std', 'median', 'count']}).sort_values(by = ('score', 'count'), ascending = False)"
   ]
  },
  {
   "cell_type": "code",
   "execution_count": 38,
   "metadata": {
    "collapsed": true
   },
   "outputs": [],
   "source": [
    "all_label_stats.dropna(inplace = True)"
   ]
  },
  {
   "cell_type": "markdown",
   "metadata": {},
   "source": [
    "Let's only consider labels that received 30 or more album reviews."
   ]
  },
  {
   "cell_type": "code",
   "execution_count": 39,
   "metadata": {
    "scrolled": true
   },
   "outputs": [
    {
     "name": "stderr",
     "output_type": "stream",
     "text": [
      "C:\\Users\\Dinara\\Anaconda3\\lib\\site-packages\\ipykernel\\__main__.py:2: SettingWithCopyWarning: \n",
      "A value is trying to be set on a copy of a slice from a DataFrame\n",
      "\n",
      "See the caveats in the documentation: http://pandas.pydata.org/pandas-docs/stable/indexing.html#indexing-view-versus-copy\n",
      "  from ipykernel import kernelapp as app\n"
     ]
    },
    {
     "data": {
      "text/html": [
       "<div>\n",
       "<table border=\"1\" class=\"dataframe\">\n",
       "  <thead>\n",
       "    <tr>\n",
       "      <th></th>\n",
       "      <th>label</th>\n",
       "      <th colspan=\"4\" halign=\"left\">score</th>\n",
       "    </tr>\n",
       "    <tr>\n",
       "      <th></th>\n",
       "      <th></th>\n",
       "      <th>mean</th>\n",
       "      <th>std</th>\n",
       "      <th>median</th>\n",
       "      <th>count</th>\n",
       "    </tr>\n",
       "  </thead>\n",
       "  <tbody>\n",
       "    <tr>\n",
       "      <th>1564</th>\n",
       "      <td>light in the attic</td>\n",
       "      <td>7.956098</td>\n",
       "      <td>1.007484</td>\n",
       "      <td>8.00</td>\n",
       "      <td>41</td>\n",
       "    </tr>\n",
       "    <tr>\n",
       "      <th>2214</th>\n",
       "      <td>rhino</td>\n",
       "      <td>7.798305</td>\n",
       "      <td>1.536509</td>\n",
       "      <td>8.10</td>\n",
       "      <td>59</td>\n",
       "    </tr>\n",
       "    <tr>\n",
       "      <th>2106</th>\n",
       "      <td>profound lore</td>\n",
       "      <td>7.624324</td>\n",
       "      <td>0.774383</td>\n",
       "      <td>7.80</td>\n",
       "      <td>37</td>\n",
       "    </tr>\n",
       "    <tr>\n",
       "      <th>884</th>\n",
       "      <td>emi</td>\n",
       "      <td>7.563636</td>\n",
       "      <td>1.745815</td>\n",
       "      <td>7.70</td>\n",
       "      <td>77</td>\n",
       "    </tr>\n",
       "    <tr>\n",
       "      <th>1333</th>\n",
       "      <td>hyperdub</td>\n",
       "      <td>7.445714</td>\n",
       "      <td>0.776623</td>\n",
       "      <td>7.40</td>\n",
       "      <td>35</td>\n",
       "    </tr>\n",
       "    <tr>\n",
       "      <th>855</th>\n",
       "      <td>editions mego</td>\n",
       "      <td>7.443750</td>\n",
       "      <td>0.828889</td>\n",
       "      <td>7.65</td>\n",
       "      <td>32</td>\n",
       "    </tr>\n",
       "    <tr>\n",
       "      <th>1360</th>\n",
       "      <td>important</td>\n",
       "      <td>7.422857</td>\n",
       "      <td>0.667341</td>\n",
       "      <td>7.40</td>\n",
       "      <td>35</td>\n",
       "    </tr>\n",
       "    <tr>\n",
       "      <th>2632</th>\n",
       "      <td>thirsty ear</td>\n",
       "      <td>7.403125</td>\n",
       "      <td>1.112824</td>\n",
       "      <td>7.60</td>\n",
       "      <td>32</td>\n",
       "    </tr>\n",
       "    <tr>\n",
       "      <th>38</th>\n",
       "      <td>4ad</td>\n",
       "      <td>7.398276</td>\n",
       "      <td>1.238441</td>\n",
       "      <td>7.60</td>\n",
       "      <td>116</td>\n",
       "    </tr>\n",
       "    <tr>\n",
       "      <th>2192</th>\n",
       "      <td>relapse</td>\n",
       "      <td>7.378947</td>\n",
       "      <td>0.954193</td>\n",
       "      <td>7.60</td>\n",
       "      <td>76</td>\n",
       "    </tr>\n",
       "    <tr>\n",
       "      <th>1674</th>\n",
       "      <td>matador</td>\n",
       "      <td>7.374302</td>\n",
       "      <td>1.337451</td>\n",
       "      <td>7.70</td>\n",
       "      <td>179</td>\n",
       "    </tr>\n",
       "    <tr>\n",
       "      <th>1516</th>\n",
       "      <td>kranky</td>\n",
       "      <td>7.359223</td>\n",
       "      <td>1.102976</td>\n",
       "      <td>7.40</td>\n",
       "      <td>103</td>\n",
       "    </tr>\n",
       "    <tr>\n",
       "      <th>782</th>\n",
       "      <td>domino</td>\n",
       "      <td>7.344828</td>\n",
       "      <td>1.093188</td>\n",
       "      <td>7.40</td>\n",
       "      <td>203</td>\n",
       "    </tr>\n",
       "    <tr>\n",
       "      <th>1369</th>\n",
       "      <td>in the red</td>\n",
       "      <td>7.333333</td>\n",
       "      <td>0.946765</td>\n",
       "      <td>7.50</td>\n",
       "      <td>45</td>\n",
       "    </tr>\n",
       "    <tr>\n",
       "      <th>2394</th>\n",
       "      <td>slumberland</td>\n",
       "      <td>7.332432</td>\n",
       "      <td>0.621403</td>\n",
       "      <td>7.40</td>\n",
       "      <td>37</td>\n",
       "    </tr>\n",
       "    <tr>\n",
       "      <th>616</th>\n",
       "      <td>constellation</td>\n",
       "      <td>7.328205</td>\n",
       "      <td>0.944220</td>\n",
       "      <td>7.60</td>\n",
       "      <td>39</td>\n",
       "    </tr>\n",
       "    <tr>\n",
       "      <th>909</th>\n",
       "      <td>epitaph</td>\n",
       "      <td>7.312500</td>\n",
       "      <td>1.195624</td>\n",
       "      <td>7.65</td>\n",
       "      <td>32</td>\n",
       "    </tr>\n",
       "    <tr>\n",
       "      <th>73</th>\n",
       "      <td>absolutely kosher</td>\n",
       "      <td>7.300000</td>\n",
       "      <td>1.200641</td>\n",
       "      <td>7.40</td>\n",
       "      <td>40</td>\n",
       "    </tr>\n",
       "    <tr>\n",
       "      <th>796</th>\n",
       "      <td>drag city</td>\n",
       "      <td>7.286636</td>\n",
       "      <td>1.012631</td>\n",
       "      <td>7.50</td>\n",
       "      <td>217</td>\n",
       "    </tr>\n",
       "    <tr>\n",
       "      <th>732</th>\n",
       "      <td>dfa</td>\n",
       "      <td>7.273333</td>\n",
       "      <td>0.925743</td>\n",
       "      <td>7.10</td>\n",
       "      <td>45</td>\n",
       "    </tr>\n",
       "    <tr>\n",
       "      <th>1704</th>\n",
       "      <td>merge</td>\n",
       "      <td>7.261364</td>\n",
       "      <td>0.987644</td>\n",
       "      <td>7.40</td>\n",
       "      <td>220</td>\n",
       "    </tr>\n",
       "    <tr>\n",
       "      <th>1586</th>\n",
       "      <td>load</td>\n",
       "      <td>7.256410</td>\n",
       "      <td>0.867178</td>\n",
       "      <td>7.30</td>\n",
       "      <td>39</td>\n",
       "    </tr>\n",
       "    <tr>\n",
       "      <th>1712</th>\n",
       "      <td>mexican summer</td>\n",
       "      <td>7.256000</td>\n",
       "      <td>0.852167</td>\n",
       "      <td>7.50</td>\n",
       "      <td>50</td>\n",
       "    </tr>\n",
       "    <tr>\n",
       "      <th>1994</th>\n",
       "      <td>paper bag</td>\n",
       "      <td>7.248780</td>\n",
       "      <td>0.572329</td>\n",
       "      <td>7.10</td>\n",
       "      <td>41</td>\n",
       "    </tr>\n",
       "    <tr>\n",
       "      <th>2283</th>\n",
       "      <td>sacred bones</td>\n",
       "      <td>7.246032</td>\n",
       "      <td>0.753663</td>\n",
       "      <td>7.40</td>\n",
       "      <td>63</td>\n",
       "    </tr>\n",
       "    <tr>\n",
       "      <th>494</th>\n",
       "      <td>captured tracks</td>\n",
       "      <td>7.227273</td>\n",
       "      <td>0.812963</td>\n",
       "      <td>7.30</td>\n",
       "      <td>55</td>\n",
       "    </tr>\n",
       "    <tr>\n",
       "      <th>947</th>\n",
       "      <td>fabric</td>\n",
       "      <td>7.208824</td>\n",
       "      <td>1.055252</td>\n",
       "      <td>7.25</td>\n",
       "      <td>34</td>\n",
       "    </tr>\n",
       "    <tr>\n",
       "      <th>320</th>\n",
       "      <td>beggars banquet</td>\n",
       "      <td>7.206061</td>\n",
       "      <td>1.076435</td>\n",
       "      <td>7.20</td>\n",
       "      <td>33</td>\n",
       "    </tr>\n",
       "    <tr>\n",
       "      <th>2456</th>\n",
       "      <td>southern lord</td>\n",
       "      <td>7.205714</td>\n",
       "      <td>1.309680</td>\n",
       "      <td>7.50</td>\n",
       "      <td>35</td>\n",
       "    </tr>\n",
       "    <tr>\n",
       "      <th>1431</th>\n",
       "      <td>jagjaguwar</td>\n",
       "      <td>7.204615</td>\n",
       "      <td>0.858958</td>\n",
       "      <td>7.30</td>\n",
       "      <td>130</td>\n",
       "    </tr>\n",
       "    <tr>\n",
       "      <th>...</th>\n",
       "      <td>...</td>\n",
       "      <td>...</td>\n",
       "      <td>...</td>\n",
       "      <td>...</td>\n",
       "      <td>...</td>\n",
       "    </tr>\n",
       "    <tr>\n",
       "      <th>177</th>\n",
       "      <td>anticon</td>\n",
       "      <td>6.773333</td>\n",
       "      <td>1.196586</td>\n",
       "      <td>7.00</td>\n",
       "      <td>60</td>\n",
       "    </tr>\n",
       "    <tr>\n",
       "      <th>2164</th>\n",
       "      <td>rca</td>\n",
       "      <td>6.744118</td>\n",
       "      <td>1.650182</td>\n",
       "      <td>6.95</td>\n",
       "      <td>68</td>\n",
       "    </tr>\n",
       "    <tr>\n",
       "      <th>293</th>\n",
       "      <td>barsuk</td>\n",
       "      <td>6.722535</td>\n",
       "      <td>1.494676</td>\n",
       "      <td>7.10</td>\n",
       "      <td>71</td>\n",
       "    </tr>\n",
       "    <tr>\n",
       "      <th>2217</th>\n",
       "      <td>rhymesayers</td>\n",
       "      <td>6.717143</td>\n",
       "      <td>1.042476</td>\n",
       "      <td>6.60</td>\n",
       "      <td>35</td>\n",
       "    </tr>\n",
       "    <tr>\n",
       "      <th>2000</th>\n",
       "      <td>parlophone</td>\n",
       "      <td>6.660000</td>\n",
       "      <td>1.610868</td>\n",
       "      <td>7.00</td>\n",
       "      <td>30</td>\n",
       "    </tr>\n",
       "    <tr>\n",
       "      <th>873</th>\n",
       "      <td>elektra</td>\n",
       "      <td>6.658333</td>\n",
       "      <td>1.899530</td>\n",
       "      <td>7.20</td>\n",
       "      <td>36</td>\n",
       "    </tr>\n",
       "    <tr>\n",
       "      <th>907</th>\n",
       "      <td>epic</td>\n",
       "      <td>6.656452</td>\n",
       "      <td>1.915649</td>\n",
       "      <td>7.10</td>\n",
       "      <td>62</td>\n",
       "    </tr>\n",
       "    <tr>\n",
       "      <th>2078</th>\n",
       "      <td>polyvinyl</td>\n",
       "      <td>6.629703</td>\n",
       "      <td>1.183262</td>\n",
       "      <td>6.70</td>\n",
       "      <td>101</td>\n",
       "    </tr>\n",
       "    <tr>\n",
       "      <th>2652</th>\n",
       "      <td>tigerbeat6</td>\n",
       "      <td>6.620000</td>\n",
       "      <td>1.109023</td>\n",
       "      <td>6.85</td>\n",
       "      <td>30</td>\n",
       "    </tr>\n",
       "    <tr>\n",
       "      <th>227</th>\n",
       "      <td>ato</td>\n",
       "      <td>6.602128</td>\n",
       "      <td>1.179257</td>\n",
       "      <td>6.80</td>\n",
       "      <td>47</td>\n",
       "    </tr>\n",
       "    <tr>\n",
       "      <th>492</th>\n",
       "      <td>capitol</td>\n",
       "      <td>6.579279</td>\n",
       "      <td>2.063806</td>\n",
       "      <td>6.80</td>\n",
       "      <td>111</td>\n",
       "    </tr>\n",
       "    <tr>\n",
       "      <th>2803</th>\n",
       "      <td>vice</td>\n",
       "      <td>6.568571</td>\n",
       "      <td>1.514007</td>\n",
       "      <td>6.90</td>\n",
       "      <td>35</td>\n",
       "    </tr>\n",
       "    <tr>\n",
       "      <th>2006</th>\n",
       "      <td>paw tracks</td>\n",
       "      <td>6.543333</td>\n",
       "      <td>1.715785</td>\n",
       "      <td>6.70</td>\n",
       "      <td>30</td>\n",
       "    </tr>\n",
       "    <tr>\n",
       "      <th>2286</th>\n",
       "      <td>saddle creek</td>\n",
       "      <td>6.523288</td>\n",
       "      <td>1.144737</td>\n",
       "      <td>6.70</td>\n",
       "      <td>73</td>\n",
       "    </tr>\n",
       "    <tr>\n",
       "      <th>1472</th>\n",
       "      <td>kanine</td>\n",
       "      <td>6.494595</td>\n",
       "      <td>1.244308</td>\n",
       "      <td>6.70</td>\n",
       "      <td>37</td>\n",
       "    </tr>\n",
       "    <tr>\n",
       "      <th>2813</th>\n",
       "      <td>virgin</td>\n",
       "      <td>6.460976</td>\n",
       "      <td>2.016093</td>\n",
       "      <td>6.85</td>\n",
       "      <td>82</td>\n",
       "    </tr>\n",
       "    <tr>\n",
       "      <th>2781</th>\n",
       "      <td>v2</td>\n",
       "      <td>6.452941</td>\n",
       "      <td>1.492026</td>\n",
       "      <td>6.70</td>\n",
       "      <td>51</td>\n",
       "    </tr>\n",
       "    <tr>\n",
       "      <th>2464</th>\n",
       "      <td>spinart</td>\n",
       "      <td>6.451515</td>\n",
       "      <td>1.377525</td>\n",
       "      <td>6.70</td>\n",
       "      <td>33</td>\n",
       "    </tr>\n",
       "    <tr>\n",
       "      <th>224</th>\n",
       "      <td>atlantic</td>\n",
       "      <td>6.445794</td>\n",
       "      <td>1.677446</td>\n",
       "      <td>6.80</td>\n",
       "      <td>107</td>\n",
       "    </tr>\n",
       "    <tr>\n",
       "      <th>2833</th>\n",
       "      <td>warner bros.</td>\n",
       "      <td>6.417391</td>\n",
       "      <td>1.786266</td>\n",
       "      <td>6.70</td>\n",
       "      <td>115</td>\n",
       "    </tr>\n",
       "    <tr>\n",
       "      <th>1773</th>\n",
       "      <td>morr</td>\n",
       "      <td>6.416216</td>\n",
       "      <td>1.532702</td>\n",
       "      <td>6.70</td>\n",
       "      <td>37</td>\n",
       "    </tr>\n",
       "    <tr>\n",
       "      <th>1419</th>\n",
       "      <td>island</td>\n",
       "      <td>6.409459</td>\n",
       "      <td>1.978803</td>\n",
       "      <td>6.65</td>\n",
       "      <td>74</td>\n",
       "    </tr>\n",
       "    <tr>\n",
       "      <th>1405</th>\n",
       "      <td>interscope</td>\n",
       "      <td>6.393204</td>\n",
       "      <td>1.788978</td>\n",
       "      <td>6.70</td>\n",
       "      <td>103</td>\n",
       "    </tr>\n",
       "    <tr>\n",
       "      <th>2713</th>\n",
       "      <td>troubleman unlimited</td>\n",
       "      <td>6.328571</td>\n",
       "      <td>1.807431</td>\n",
       "      <td>7.20</td>\n",
       "      <td>35</td>\n",
       "    </tr>\n",
       "    <tr>\n",
       "      <th>218</th>\n",
       "      <td>astralwerks</td>\n",
       "      <td>6.276978</td>\n",
       "      <td>1.771527</td>\n",
       "      <td>6.70</td>\n",
       "      <td>139</td>\n",
       "    </tr>\n",
       "    <tr>\n",
       "      <th>1112</th>\n",
       "      <td>geffen</td>\n",
       "      <td>6.246296</td>\n",
       "      <td>1.968594</td>\n",
       "      <td>6.65</td>\n",
       "      <td>54</td>\n",
       "    </tr>\n",
       "    <tr>\n",
       "      <th>2782</th>\n",
       "      <td>vagrant</td>\n",
       "      <td>6.243590</td>\n",
       "      <td>1.620720</td>\n",
       "      <td>6.60</td>\n",
       "      <td>39</td>\n",
       "    </tr>\n",
       "    <tr>\n",
       "      <th>1832</th>\n",
       "      <td>nettwerk</td>\n",
       "      <td>6.231250</td>\n",
       "      <td>1.350373</td>\n",
       "      <td>6.60</td>\n",
       "      <td>32</td>\n",
       "    </tr>\n",
       "    <tr>\n",
       "      <th>2295</th>\n",
       "      <td>sanctuary</td>\n",
       "      <td>6.091176</td>\n",
       "      <td>1.996416</td>\n",
       "      <td>6.35</td>\n",
       "      <td>34</td>\n",
       "    </tr>\n",
       "    <tr>\n",
       "      <th>1430</th>\n",
       "      <td>jade tree</td>\n",
       "      <td>6.065789</td>\n",
       "      <td>2.011760</td>\n",
       "      <td>6.80</td>\n",
       "      <td>38</td>\n",
       "    </tr>\n",
       "  </tbody>\n",
       "</table>\n",
       "<p>105 rows × 5 columns</p>\n",
       "</div>"
      ],
      "text/plain": [
       "                     label     score                       \n",
       "                                mean       std median count\n",
       "1564    light in the attic  7.956098  1.007484   8.00    41\n",
       "2214                 rhino  7.798305  1.536509   8.10    59\n",
       "2106         profound lore  7.624324  0.774383   7.80    37\n",
       "884                    emi  7.563636  1.745815   7.70    77\n",
       "1333              hyperdub  7.445714  0.776623   7.40    35\n",
       "855          editions mego  7.443750  0.828889   7.65    32\n",
       "1360             important  7.422857  0.667341   7.40    35\n",
       "2632           thirsty ear  7.403125  1.112824   7.60    32\n",
       "38                     4ad  7.398276  1.238441   7.60   116\n",
       "2192               relapse  7.378947  0.954193   7.60    76\n",
       "1674               matador  7.374302  1.337451   7.70   179\n",
       "1516                kranky  7.359223  1.102976   7.40   103\n",
       "782                 domino  7.344828  1.093188   7.40   203\n",
       "1369            in the red  7.333333  0.946765   7.50    45\n",
       "2394           slumberland  7.332432  0.621403   7.40    37\n",
       "616          constellation  7.328205  0.944220   7.60    39\n",
       "909                epitaph  7.312500  1.195624   7.65    32\n",
       "73       absolutely kosher  7.300000  1.200641   7.40    40\n",
       "796              drag city  7.286636  1.012631   7.50   217\n",
       "732                    dfa  7.273333  0.925743   7.10    45\n",
       "1704                 merge  7.261364  0.987644   7.40   220\n",
       "1586                  load  7.256410  0.867178   7.30    39\n",
       "1712        mexican summer  7.256000  0.852167   7.50    50\n",
       "1994             paper bag  7.248780  0.572329   7.10    41\n",
       "2283          sacred bones  7.246032  0.753663   7.40    63\n",
       "494        captured tracks  7.227273  0.812963   7.30    55\n",
       "947                 fabric  7.208824  1.055252   7.25    34\n",
       "320        beggars banquet  7.206061  1.076435   7.20    33\n",
       "2456         southern lord  7.205714  1.309680   7.50    35\n",
       "1431            jagjaguwar  7.204615  0.858958   7.30   130\n",
       "...                    ...       ...       ...    ...   ...\n",
       "177                anticon  6.773333  1.196586   7.00    60\n",
       "2164                   rca  6.744118  1.650182   6.95    68\n",
       "293                 barsuk  6.722535  1.494676   7.10    71\n",
       "2217           rhymesayers  6.717143  1.042476   6.60    35\n",
       "2000            parlophone  6.660000  1.610868   7.00    30\n",
       "873                elektra  6.658333  1.899530   7.20    36\n",
       "907                   epic  6.656452  1.915649   7.10    62\n",
       "2078             polyvinyl  6.629703  1.183262   6.70   101\n",
       "2652            tigerbeat6  6.620000  1.109023   6.85    30\n",
       "227                    ato  6.602128  1.179257   6.80    47\n",
       "492                capitol  6.579279  2.063806   6.80   111\n",
       "2803                  vice  6.568571  1.514007   6.90    35\n",
       "2006            paw tracks  6.543333  1.715785   6.70    30\n",
       "2286          saddle creek  6.523288  1.144737   6.70    73\n",
       "1472                kanine  6.494595  1.244308   6.70    37\n",
       "2813                virgin  6.460976  2.016093   6.85    82\n",
       "2781                    v2  6.452941  1.492026   6.70    51\n",
       "2464               spinart  6.451515  1.377525   6.70    33\n",
       "224               atlantic  6.445794  1.677446   6.80   107\n",
       "2833          warner bros.  6.417391  1.786266   6.70   115\n",
       "1773                  morr  6.416216  1.532702   6.70    37\n",
       "1419                island  6.409459  1.978803   6.65    74\n",
       "1405            interscope  6.393204  1.788978   6.70   103\n",
       "2713  troubleman unlimited  6.328571  1.807431   7.20    35\n",
       "218            astralwerks  6.276978  1.771527   6.70   139\n",
       "1112                geffen  6.246296  1.968594   6.65    54\n",
       "2782               vagrant  6.243590  1.620720   6.60    39\n",
       "1832              nettwerk  6.231250  1.350373   6.60    32\n",
       "2295             sanctuary  6.091176  1.996416   6.35    34\n",
       "1430             jade tree  6.065789  2.011760   6.80    38\n",
       "\n",
       "[105 rows x 5 columns]"
      ]
     },
     "execution_count": 39,
     "metadata": {},
     "output_type": "execute_result"
    }
   ],
   "source": [
    "thirty_revs_plus = all_label_stats[all_label_stats[('score', 'count')]>=30]\n",
    "thirty_revs_plus.sort_values(by = ('score', 'mean'), inplace = True, ascending = False)\n",
    "thirty_revs_plus"
   ]
  },
  {
   "cell_type": "code",
   "execution_count": 40,
   "metadata": {
    "scrolled": true
   },
   "outputs": [
    {
     "data": {
      "text/html": [
       "<div>\n",
       "<table border=\"1\" class=\"dataframe\">\n",
       "  <thead>\n",
       "    <tr>\n",
       "      <th></th>\n",
       "      <th>label</th>\n",
       "      <th colspan=\"4\" halign=\"left\">score</th>\n",
       "    </tr>\n",
       "    <tr>\n",
       "      <th></th>\n",
       "      <th></th>\n",
       "      <th>mean</th>\n",
       "      <th>std</th>\n",
       "      <th>median</th>\n",
       "      <th>count</th>\n",
       "    </tr>\n",
       "  </thead>\n",
       "  <tbody>\n",
       "    <tr>\n",
       "      <th>2214</th>\n",
       "      <td>rhino</td>\n",
       "      <td>7.798305</td>\n",
       "      <td>1.536509</td>\n",
       "      <td>8.1</td>\n",
       "      <td>59</td>\n",
       "    </tr>\n",
       "    <tr>\n",
       "      <th>1564</th>\n",
       "      <td>light in the attic</td>\n",
       "      <td>7.956098</td>\n",
       "      <td>1.007484</td>\n",
       "      <td>8.0</td>\n",
       "      <td>41</td>\n",
       "    </tr>\n",
       "    <tr>\n",
       "      <th>2106</th>\n",
       "      <td>profound lore</td>\n",
       "      <td>7.624324</td>\n",
       "      <td>0.774383</td>\n",
       "      <td>7.8</td>\n",
       "      <td>37</td>\n",
       "    </tr>\n",
       "    <tr>\n",
       "      <th>1674</th>\n",
       "      <td>matador</td>\n",
       "      <td>7.374302</td>\n",
       "      <td>1.337451</td>\n",
       "      <td>7.7</td>\n",
       "      <td>179</td>\n",
       "    </tr>\n",
       "    <tr>\n",
       "      <th>884</th>\n",
       "      <td>emi</td>\n",
       "      <td>7.563636</td>\n",
       "      <td>1.745815</td>\n",
       "      <td>7.7</td>\n",
       "      <td>77</td>\n",
       "    </tr>\n",
       "  </tbody>\n",
       "</table>\n",
       "</div>"
      ],
      "text/plain": [
       "                   label     score                       \n",
       "                              mean       std median count\n",
       "2214               rhino  7.798305  1.536509    8.1    59\n",
       "1564  light in the attic  7.956098  1.007484    8.0    41\n",
       "2106       profound lore  7.624324  0.774383    7.8    37\n",
       "1674             matador  7.374302  1.337451    7.7   179\n",
       "884                  emi  7.563636  1.745815    7.7    77"
      ]
     },
     "execution_count": 40,
     "metadata": {},
     "output_type": "execute_result"
    }
   ],
   "source": [
    "thirty_revs_plus.sort_values(by = ('score', 'median'), ascending = False).head()"
   ]
  },
  {
   "cell_type": "markdown",
   "metadata": {},
   "source": [
    "## Let's  see if top 10% of labels by median score receive scores that are statistically significantly higher than other labels."
   ]
  },
  {
   "cell_type": "code",
   "execution_count": 41,
   "metadata": {},
   "outputs": [
    {
     "data": {
      "text/plain": [
       "array(['rhino', 'light in the attic', 'profound lore', 'matador', 'emi',\n",
       "       'editions mego', 'epitaph', 'constellation', 'relapse', '4ad'],\n",
       "      dtype=object)"
      ]
     },
     "execution_count": 41,
     "metadata": {},
     "output_type": "execute_result"
    }
   ],
   "source": [
    "# partition the score series by the highest scoring label names\n",
    "labels_10 = np.array(thirty_revs_plus.sort_values(by = ('score', 'median'), ascending = False).head(10)['label'])\n",
    "labels_10"
   ]
  },
  {
   "cell_type": "code",
   "execution_count": 42,
   "metadata": {},
   "outputs": [
    {
     "data": {
      "text/plain": [
       "688"
      ]
     },
     "execution_count": 42,
     "metadata": {},
     "output_type": "execute_result"
    }
   ],
   "source": [
    "top10, other_than_10 = scores_partition(pf_all_genres, 'label', 'score', labels_10)\n",
    "len(top10)"
   ]
  },
  {
   "cell_type": "code",
   "execution_count": 43,
   "metadata": {},
   "outputs": [
    {
     "name": "stdout",
     "output_type": "stream",
     "text": [
      "z-score =  10.054282183405464\n"
     ]
    }
   ],
   "source": [
    "z_label = two_sample_z(top10, other_than_10)\n",
    "print(\"z-score = \", z_label)                "
   ]
  },
  {
   "cell_type": "code",
   "execution_count": 44,
   "metadata": {},
   "outputs": [
    {
     "name": "stdout",
     "output_type": "stream",
     "text": [
      "p-val =  4.398005412824096e-24\n"
     ]
    }
   ],
   "source": [
    "print('p-val = ', stats.norm.sf(z_label)) "
   ]
  },
  {
   "cell_type": "markdown",
   "metadata": {},
   "source": [
    "## The top 10% out of music labels with 30+ reviews, receive statistically significantly higher ratings than the rest of the labels. These labels are 'rhino', 'light in the attic', 'profound lore', 'matador', 'emi', 'editions mego', 'epitaph', 'constellation', 'relapse', and '4ad'."
   ]
  },
  {
   "cell_type": "markdown",
   "metadata": {},
   "source": [
    "# 4. Let's run similar analysis for authors of the album reviews."
   ]
  },
  {
   "cell_type": "markdown",
   "metadata": {},
   "source": [
    "Let's make sure we are only considering active authors. Please note that we have reviews published up to January 8, 2017, so will assume an author is active if they reviewed an album in the 6 months before January 8, 2017. Therefore, the cut-off date to determine which authors are active is June 8, 2016. <br>We give them so much time, because Pitchfork review numbers peak at summer time, so a natural slump may occure in the fall and winter."
   ]
  },
  {
   "cell_type": "code",
   "execution_count": 46,
   "metadata": {},
   "outputs": [
    {
     "data": {
      "text/html": [
       "<div>\n",
       "<table border=\"1\" class=\"dataframe\">\n",
       "  <thead>\n",
       "    <tr>\n",
       "      <th></th>\n",
       "      <th>author</th>\n",
       "      <th colspan=\"4\" halign=\"left\">score</th>\n",
       "      <th>pub_date</th>\n",
       "    </tr>\n",
       "    <tr>\n",
       "      <th></th>\n",
       "      <th></th>\n",
       "      <th>mean</th>\n",
       "      <th>std</th>\n",
       "      <th>median</th>\n",
       "      <th>count</th>\n",
       "      <th>max</th>\n",
       "    </tr>\n",
       "  </thead>\n",
       "  <tbody>\n",
       "    <tr>\n",
       "      <th>190</th>\n",
       "      <td>joe tangari</td>\n",
       "      <td>7.300904</td>\n",
       "      <td>0.953361</td>\n",
       "      <td>7.5</td>\n",
       "      <td>664</td>\n",
       "      <td>2015-02-06</td>\n",
       "    </tr>\n",
       "    <tr>\n",
       "      <th>392</th>\n",
       "      <td>stephen m. deusner</td>\n",
       "      <td>7.007132</td>\n",
       "      <td>1.245167</td>\n",
       "      <td>7.3</td>\n",
       "      <td>631</td>\n",
       "      <td>2016-07-28</td>\n",
       "    </tr>\n",
       "    <tr>\n",
       "      <th>154</th>\n",
       "      <td>ian cohen</td>\n",
       "      <td>6.361502</td>\n",
       "      <td>1.571182</td>\n",
       "      <td>6.5</td>\n",
       "      <td>626</td>\n",
       "      <td>2017-01-04</td>\n",
       "    </tr>\n",
       "    <tr>\n",
       "      <th>58</th>\n",
       "      <td>brian howe</td>\n",
       "      <td>7.066222</td>\n",
       "      <td>0.935381</td>\n",
       "      <td>7.3</td>\n",
       "      <td>450</td>\n",
       "      <td>2016-12-27</td>\n",
       "    </tr>\n",
       "    <tr>\n",
       "      <th>254</th>\n",
       "      <td>mark richardson</td>\n",
       "      <td>7.594508</td>\n",
       "      <td>1.289982</td>\n",
       "      <td>7.8</td>\n",
       "      <td>437</td>\n",
       "      <td>2016-12-01</td>\n",
       "    </tr>\n",
       "    <tr>\n",
       "      <th>245</th>\n",
       "      <td>marc hogan</td>\n",
       "      <td>6.595823</td>\n",
       "      <td>1.511763</td>\n",
       "      <td>6.8</td>\n",
       "      <td>407</td>\n",
       "      <td>2016-12-23</td>\n",
       "    </tr>\n",
       "    <tr>\n",
       "      <th>400</th>\n",
       "      <td>stuart berman</td>\n",
       "      <td>7.109877</td>\n",
       "      <td>1.091325</td>\n",
       "      <td>7.2</td>\n",
       "      <td>405</td>\n",
       "      <td>2016-12-07</td>\n",
       "    </tr>\n",
       "    <tr>\n",
       "      <th>297</th>\n",
       "      <td>nate patrin</td>\n",
       "      <td>7.004795</td>\n",
       "      <td>1.251656</td>\n",
       "      <td>7.3</td>\n",
       "      <td>292</td>\n",
       "      <td>2017-01-08</td>\n",
       "    </tr>\n",
       "    <tr>\n",
       "      <th>172</th>\n",
       "      <td>jayson greene</td>\n",
       "      <td>7.144615</td>\n",
       "      <td>1.278547</td>\n",
       "      <td>7.4</td>\n",
       "      <td>260</td>\n",
       "      <td>2016-10-28</td>\n",
       "    </tr>\n",
       "    <tr>\n",
       "      <th>51</th>\n",
       "      <td>brandon stosuy</td>\n",
       "      <td>7.516216</td>\n",
       "      <td>1.073955</td>\n",
       "      <td>7.8</td>\n",
       "      <td>259</td>\n",
       "      <td>2016-05-18</td>\n",
       "    </tr>\n",
       "  </tbody>\n",
       "</table>\n",
       "</div>"
      ],
      "text/plain": [
       "                 author     score                          pub_date\n",
       "                             mean       std median count        max\n",
       "190         joe tangari  7.300904  0.953361    7.5   664 2015-02-06\n",
       "392  stephen m. deusner  7.007132  1.245167    7.3   631 2016-07-28\n",
       "154           ian cohen  6.361502  1.571182    6.5   626 2017-01-04\n",
       "58           brian howe  7.066222  0.935381    7.3   450 2016-12-27\n",
       "254     mark richardson  7.594508  1.289982    7.8   437 2016-12-01\n",
       "245          marc hogan  6.595823  1.511763    6.8   407 2016-12-23\n",
       "400       stuart berman  7.109877  1.091325    7.2   405 2016-12-07\n",
       "297         nate patrin  7.004795  1.251656    7.3   292 2017-01-08\n",
       "172       jayson greene  7.144615  1.278547    7.4   260 2016-10-28\n",
       "51       brandon stosuy  7.516216  1.073955    7.8   259 2016-05-18"
      ]
     },
     "execution_count": 46,
     "metadata": {},
     "output_type": "execute_result"
    }
   ],
   "source": [
    "author_stats_wdates = pf_all_genres.groupby('author', as_index = False)[['score', 'pub_date']].agg({'score': ['mean', 'std', 'median', 'count'], 'pub_date': 'max'}).sort_values(by = ('score', 'count'), ascending = False)\n",
    "author_stats_wdates.head(10)"
   ]
  },
  {
   "cell_type": "markdown",
   "metadata": {},
   "source": [
    "Let's only consider authors who reviewed 30 or more albums."
   ]
  },
  {
   "cell_type": "code",
   "execution_count": 47,
   "metadata": {},
   "outputs": [
    {
     "name": "stdout",
     "output_type": "stream",
     "text": [
      "<class 'pandas.core.frame.DataFrame'>\n",
      "Int64Index: 40 entries, 392 to 213\n",
      "Data columns (total 6 columns):\n",
      "(author, )         40 non-null object\n",
      "(score, mean)      40 non-null float64\n",
      "(score, std)       40 non-null float64\n",
      "(score, median)    40 non-null float64\n",
      "(score, count)     40 non-null int64\n",
      "(pub_date, max)    40 non-null datetime64[ns]\n",
      "dtypes: datetime64[ns](1), float64(3), int64(1), object(1)\n",
      "memory usage: 2.2+ KB\n"
     ]
    }
   ],
   "source": [
    "author_30plus_active = author_stats_wdates[(author_stats_wdates[('score','count')]>=30) & (author_stats_wdates[('pub_date', 'max')] > '2016-06-08')]\n",
    "author_30plus_active.info()"
   ]
  },
  {
   "cell_type": "markdown",
   "metadata": {},
   "source": [
    "## If we again go for top 10% of active authors by median score, we will only have four authors. That is very limiting, as it would be hard to have an album reviewed by one of these four, if our results prove to be statistically significant. Let's instead go for top 10 active authors."
   ]
  },
  {
   "cell_type": "code",
   "execution_count": 48,
   "metadata": {},
   "outputs": [
    {
     "data": {
      "text/plain": [
       "array(['jenn pelly', 'seth colter walls', 'mark richardson',\n",
       "       'grayson haver currin', 'david drake', 'philip sherburne',\n",
       "       \"andy o'connor\", 'andy beta', 'amanda petrusich', 'marc masters'],\n",
       "      dtype=object)"
      ]
     },
     "execution_count": 48,
     "metadata": {},
     "output_type": "execute_result"
    }
   ],
   "source": [
    "top10_auth_active = np.array(author_30plus_active.sort_values(by = ('score', 'median'), ascending = False).head(10)['author'])\n",
    "top10_auth_active"
   ]
  },
  {
   "cell_type": "code",
   "execution_count": 49,
   "metadata": {},
   "outputs": [
    {
     "data": {
      "text/plain": [
       "1551"
      ]
     },
     "execution_count": 49,
     "metadata": {},
     "output_type": "execute_result"
    }
   ],
   "source": [
    "top10_auth_active_scores, other_auth_scores = scores_partition(pf_all_genres, 'author', 'score', top10_auth_active)\n",
    "len(top10_auth_active_scores)"
   ]
  },
  {
   "cell_type": "code",
   "execution_count": 50,
   "metadata": {},
   "outputs": [
    {
     "data": {
      "text/plain": [
       "19.784298886250834"
      ]
     },
     "execution_count": 50,
     "metadata": {},
     "output_type": "execute_result"
    }
   ],
   "source": [
    "z_active_auth = two_sample_z(top10_auth_active_scores, other_auth_scores)\n",
    "z_active_auth"
   ]
  },
  {
   "cell_type": "code",
   "execution_count": 51,
   "metadata": {},
   "outputs": [
    {
     "name": "stdout",
     "output_type": "stream",
     "text": [
      "p-val =  2.032559862642909e-87\n"
     ]
    }
   ],
   "source": [
    "print('p-val = ', stats.norm.sf(z_active_auth)) "
   ]
  },
  {
   "cell_type": "markdown",
   "metadata": {},
   "source": [
    "## Top ten authors by median album score indeed give on average higher review scores."
   ]
  },
  {
   "cell_type": "markdown",
   "metadata": {},
   "source": [
    "## *Important considerations:*\n",
    "\n",
    "These results do not conclusively prove that given a new album of experimental genre, and/or produced by one of the top 10 music labels, and/or reviewed by the authors we identified, will necessarily receive a good review score. Selection bias may have influenced the data in some or all of these dimensions, i.e.:\n",
    "+ Does Pitchfork select only good experimental albums to review?\n",
    "+ Does Pitchfork for some reason only review good albums produced by the music labels we identified? \n",
    "+ Do the authors that we identified as giving high scores actually opt out of reviewing albums that they know are no good? Or maybe they are assigned better albums to review by someone else?"
   ]
  }
 ],
 "metadata": {
  "kernelspec": {
   "display_name": "Python 3",
   "language": "python",
   "name": "python3"
  },
  "language_info": {
   "codemirror_mode": {
    "name": "ipython",
    "version": 3
   },
   "file_extension": ".py",
   "mimetype": "text/x-python",
   "name": "python",
   "nbconvert_exporter": "python",
   "pygments_lexer": "ipython3",
   "version": "3.6.0"
  }
 },
 "nbformat": 4,
 "nbformat_minor": 2
}
