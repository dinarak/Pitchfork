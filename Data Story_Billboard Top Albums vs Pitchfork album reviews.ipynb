{
 "cells": [
  {
   "cell_type": "markdown",
   "metadata": {},
   "source": [
    "# A data story.\n",
    "## Pitchfork album reviews and Billboard top 100 album sales data for 1999 - 2016: what can we learn about music trends for that period?"
   ]
  },
  {
   "cell_type": "code",
   "execution_count": 1,
   "metadata": {},
   "outputs": [
    {
     "name": "stderr",
     "output_type": "stream",
     "text": [
      "C:\\Users\\Dinara\\Anaconda3\\lib\\site-packages\\IPython\\html.py:14: ShimWarning: The `IPython.html` package has been deprecated. You should import from `notebook` instead. `IPython.html.widgets` has moved to `ipywidgets`.\n",
      "  \"`IPython.html.widgets` has moved to `ipywidgets`.\", ShimWarning)\n"
     ]
    }
   ],
   "source": [
    "import pandas as pd\n",
    "import numpy as np\n",
    "import matplotlib.pyplot as plt\n",
    "import seaborn as sns"
   ]
  },
  {
   "cell_type": "markdown",
   "metadata": {},
   "source": [
    "### Step 1. Read prevously scraped and cleaned Billboard data. The data shows albums on Billboard's weekly top 100 album sales chart, from the beginning of 1998 to March 10, 2018 when the data was scraped."
   ]
  },
  {
   "cell_type": "code",
   "execution_count": 3,
   "metadata": {
    "collapsed": true
   },
   "outputs": [],
   "source": [
    "bb_df = pd.read_csv('billboard_albums_clnd.csv', parse_dates = ['date'])"
   ]
  },
  {
   "cell_type": "code",
   "execution_count": 6,
   "metadata": {},
   "outputs": [
    {
     "data": {
      "text/html": [
       "<div>\n",
       "<table border=\"1\" class=\"dataframe\">\n",
       "  <thead>\n",
       "    <tr style=\"text-align: right;\">\n",
       "      <th></th>\n",
       "      <th>Unnamed: 0</th>\n",
       "      <th>artist</th>\n",
       "      <th>title</th>\n",
       "      <th>date</th>\n",
       "      <th>peakPos</th>\n",
       "      <th>weeks</th>\n",
       "      <th>rank</th>\n",
       "    </tr>\n",
       "  </thead>\n",
       "  <tbody>\n",
       "    <tr>\n",
       "      <th>0</th>\n",
       "      <td>0</td>\n",
       "      <td>\"Weird Al\" Yankovic</td>\n",
       "      <td>Alpocalypse</td>\n",
       "      <td>2011-07-09</td>\n",
       "      <td>9</td>\n",
       "      <td>3</td>\n",
       "      <td>37.000000</td>\n",
       "    </tr>\n",
       "    <tr>\n",
       "      <th>1</th>\n",
       "      <td>1</td>\n",
       "      <td>\"Weird Al\" Yankovic</td>\n",
       "      <td>Mandatory Fun</td>\n",
       "      <td>2014-08-02</td>\n",
       "      <td>1</td>\n",
       "      <td>11</td>\n",
       "      <td>39.800000</td>\n",
       "    </tr>\n",
       "    <tr>\n",
       "      <th>2</th>\n",
       "      <td>2</td>\n",
       "      <td>\"Weird Al\" Yankovic</td>\n",
       "      <td>Poodle Hat</td>\n",
       "      <td>2003-06-07</td>\n",
       "      <td>17</td>\n",
       "      <td>9</td>\n",
       "      <td>56.555556</td>\n",
       "    </tr>\n",
       "    <tr>\n",
       "      <th>3</th>\n",
       "      <td>3</td>\n",
       "      <td>\"Weird Al\" Yankovic</td>\n",
       "      <td>Running With Scissors</td>\n",
       "      <td>1999-07-17</td>\n",
       "      <td>35</td>\n",
       "      <td>14</td>\n",
       "      <td>44.428571</td>\n",
       "    </tr>\n",
       "    <tr>\n",
       "      <th>4</th>\n",
       "      <td>4</td>\n",
       "      <td>\"Weird Al\" Yankovic</td>\n",
       "      <td>Squeeze Box: The Complete Works Of \"Weird Al\" ...</td>\n",
       "      <td>2017-12-16</td>\n",
       "      <td>65</td>\n",
       "      <td>1</td>\n",
       "      <td>65.000000</td>\n",
       "    </tr>\n",
       "  </tbody>\n",
       "</table>\n",
       "</div>"
      ],
      "text/plain": [
       "   Unnamed: 0               artist  \\\n",
       "0           0  \"Weird Al\" Yankovic   \n",
       "1           1  \"Weird Al\" Yankovic   \n",
       "2           2  \"Weird Al\" Yankovic   \n",
       "3           3  \"Weird Al\" Yankovic   \n",
       "4           4  \"Weird Al\" Yankovic   \n",
       "\n",
       "                                               title       date  peakPos  \\\n",
       "0                                        Alpocalypse 2011-07-09        9   \n",
       "1                                      Mandatory Fun 2014-08-02        1   \n",
       "2                                         Poodle Hat 2003-06-07       17   \n",
       "3                              Running With Scissors 1999-07-17       35   \n",
       "4  Squeeze Box: The Complete Works Of \"Weird Al\" ... 2017-12-16       65   \n",
       "\n",
       "   weeks       rank  \n",
       "0      3  37.000000  \n",
       "1     11  39.800000  \n",
       "2      9  56.555556  \n",
       "3     14  44.428571  \n",
       "4      1  65.000000  "
      ]
     },
     "execution_count": 6,
     "metadata": {},
     "output_type": "execute_result"
    }
   ],
   "source": [
    "bb_df.head()"
   ]
  },
  {
   "cell_type": "markdown",
   "metadata": {},
   "source": [
    "Each row represents an album, the week when it first appeared on the chart ('date' column), its peak position, number of weeks it spent on the chart, and its average rank in the chart."
   ]
  },
  {
   "cell_type": "code",
   "execution_count": 7,
   "metadata": {},
   "outputs": [
    {
     "name": "stdout",
     "output_type": "stream",
     "text": [
      "<class 'pandas.core.frame.DataFrame'>\n",
      "RangeIndex: 13407 entries, 0 to 13406\n",
      "Data columns (total 7 columns):\n",
      "Unnamed: 0    13407 non-null int64\n",
      "artist        13407 non-null object\n",
      "title         13407 non-null object\n",
      "first_week    13407 non-null datetime64[ns]\n",
      "peakPos       13407 non-null int64\n",
      "weeks         13407 non-null int64\n",
      "rank          13407 non-null float64\n",
      "dtypes: datetime64[ns](1), float64(1), int64(3), object(2)\n",
      "memory usage: 733.3+ KB\n"
     ]
    }
   ],
   "source": [
    "bb_df = bb_df.rename(columns={'date': 'first_week'})\n",
    "bb_df.info()"
   ]
  },
  {
   "cell_type": "code",
   "execution_count": 8,
   "metadata": {
    "collapsed": true
   },
   "outputs": [],
   "source": [
    "bb_df.drop('Unnamed: 0', axis = 1, inplace = True)"
   ]
  },
  {
   "cell_type": "markdown",
   "metadata": {},
   "source": [
    "### Step 2. Read in and fill null values in previously cleaned Pitchfork reviews data."
   ]
  },
  {
   "cell_type": "code",
   "execution_count": 10,
   "metadata": {},
   "outputs": [
    {
     "name": "stdout",
     "output_type": "stream",
     "text": [
      "<class 'pandas.core.frame.DataFrame'>\n",
      "RangeIndex: 18379 entries, 0 to 18378\n",
      "Data columns (total 18 columns):\n",
      "Unnamed: 0        18379 non-null int64\n",
      "reviewid_main     18379 non-null int64\n",
      "content           18379 non-null object\n",
      "genre             16015 non-null object\n",
      "label             18332 non-null object\n",
      "title             18377 non-null object\n",
      "artist            18377 non-null object\n",
      "url               18379 non-null object\n",
      "score             18379 non-null float64\n",
      "best_new_music    18379 non-null int64\n",
      "author            18379 non-null object\n",
      "author_type       14478 non-null object\n",
      "pub_date          18379 non-null datetime64[ns]\n",
      "pub_weekday       18379 non-null int64\n",
      "pub_day           18379 non-null int64\n",
      "pub_month         18379 non-null int64\n",
      "pub_year          18379 non-null int64\n",
      "year              17973 non-null float64\n",
      "dtypes: datetime64[ns](1), float64(2), int64(7), object(8)\n",
      "memory usage: 2.5+ MB\n"
     ]
    }
   ],
   "source": [
    "pf_df = pd.read_csv('pitchfork_data_cleaned_2018-03-29.csv', parse_dates = ['pub_date'], encoding=\"ISO-8859-1\")\n",
    "pf_df.info()"
   ]
  },
  {
   "cell_type": "markdown",
   "metadata": {},
   "source": [
    "The encoding does not work well with the special characters in the names of these artists and albums, so I filled them in with acceptable symbols."
   ]
  },
  {
   "cell_type": "code",
   "execution_count": 11,
   "metadata": {},
   "outputs": [
    {
     "data": {
      "text/html": [
       "<div>\n",
       "<table border=\"1\" class=\"dataframe\">\n",
       "  <thead>\n",
       "    <tr style=\"text-align: right;\">\n",
       "      <th></th>\n",
       "      <th>Unnamed: 0</th>\n",
       "      <th>reviewid_main</th>\n",
       "      <th>content</th>\n",
       "      <th>genre</th>\n",
       "      <th>label</th>\n",
       "      <th>title</th>\n",
       "      <th>artist</th>\n",
       "      <th>url</th>\n",
       "      <th>score</th>\n",
       "      <th>best_new_music</th>\n",
       "      <th>author</th>\n",
       "      <th>author_type</th>\n",
       "      <th>pub_date</th>\n",
       "      <th>pub_weekday</th>\n",
       "      <th>pub_day</th>\n",
       "      <th>pub_month</th>\n",
       "      <th>pub_year</th>\n",
       "      <th>year</th>\n",
       "    </tr>\n",
       "  </thead>\n",
       "  <tbody>\n",
       "    <tr>\n",
       "      <th>6874</th>\n",
       "      <td>6877</td>\n",
       "      <td>10321</td>\n",
       "      <td>Everyone should be wary of pulling out the fol...</td>\n",
       "      <td>electronic</td>\n",
       "      <td>because</td>\n",
       "      <td>NaN</td>\n",
       "      <td>justice</td>\n",
       "      <td>http://pitchfork.com/reviews/albums/10321-just...</td>\n",
       "      <td>8.4</td>\n",
       "      <td>1</td>\n",
       "      <td>jess harvell</td>\n",
       "      <td>contributor</td>\n",
       "      <td>2007-06-12</td>\n",
       "      <td>1</td>\n",
       "      <td>12</td>\n",
       "      <td>6</td>\n",
       "      <td>2007</td>\n",
       "      <td>2007.0</td>\n",
       "    </tr>\n",
       "    <tr>\n",
       "      <th>14963</th>\n",
       "      <td>14970</td>\n",
       "      <td>18989</td>\n",
       "      <td>Do you have a meaningful relationship with the...</td>\n",
       "      <td>NaN</td>\n",
       "      <td>sumerian</td>\n",
       "      <td>NaN</td>\n",
       "      <td>NaN</td>\n",
       "      <td>http://pitchfork.com/reviews/albums/18989-cros...</td>\n",
       "      <td>5.0</td>\n",
       "      <td>0</td>\n",
       "      <td>ian cohen</td>\n",
       "      <td>contributor</td>\n",
       "      <td>2014-02-12</td>\n",
       "      <td>2</td>\n",
       "      <td>12</td>\n",
       "      <td>2</td>\n",
       "      <td>2014</td>\n",
       "      <td>2014.0</td>\n",
       "    </tr>\n",
       "    <tr>\n",
       "      <th>15001</th>\n",
       "      <td>15009</td>\n",
       "      <td>19032</td>\n",
       "      <td>The Finnish musician Mika Vainio appears to ha...</td>\n",
       "      <td>NaN</td>\n",
       "      <td>sahko</td>\n",
       "      <td>konstellaatio</td>\n",
       "      <td>NaN</td>\n",
       "      <td>http://pitchfork.com/reviews/albums/19032-arti...</td>\n",
       "      <td>7.4</td>\n",
       "      <td>0</td>\n",
       "      <td>grayson haver currin</td>\n",
       "      <td>contributor</td>\n",
       "      <td>2014-02-27</td>\n",
       "      <td>3</td>\n",
       "      <td>27</td>\n",
       "      <td>2</td>\n",
       "      <td>2014</td>\n",
       "      <td>2014.0</td>\n",
       "    </tr>\n",
       "  </tbody>\n",
       "</table>\n",
       "</div>"
      ],
      "text/plain": [
       "       Unnamed: 0  reviewid_main  \\\n",
       "6874         6877          10321   \n",
       "14963       14970          18989   \n",
       "15001       15009          19032   \n",
       "\n",
       "                                                 content       genre  \\\n",
       "6874   Everyone should be wary of pulling out the fol...  electronic   \n",
       "14963  Do you have a meaningful relationship with the...         NaN   \n",
       "15001  The Finnish musician Mika Vainio appears to ha...         NaN   \n",
       "\n",
       "          label          title   artist  \\\n",
       "6874    because            NaN  justice   \n",
       "14963  sumerian            NaN      NaN   \n",
       "15001     sahko  konstellaatio      NaN   \n",
       "\n",
       "                                                     url  score  \\\n",
       "6874   http://pitchfork.com/reviews/albums/10321-just...    8.4   \n",
       "14963  http://pitchfork.com/reviews/albums/18989-cros...    5.0   \n",
       "15001  http://pitchfork.com/reviews/albums/19032-arti...    7.4   \n",
       "\n",
       "       best_new_music                author  author_type   pub_date  \\\n",
       "6874                1          jess harvell  contributor 2007-06-12   \n",
       "14963               0             ian cohen  contributor 2014-02-12   \n",
       "15001               0  grayson haver currin  contributor 2014-02-27   \n",
       "\n",
       "       pub_weekday  pub_day  pub_month  pub_year    year  \n",
       "6874             1       12          6      2007  2007.0  \n",
       "14963            2       12          2      2014  2014.0  \n",
       "15001            3       27          2      2014  2014.0  "
      ]
     },
     "execution_count": 11,
     "metadata": {},
     "output_type": "execute_result"
    }
   ],
   "source": [
    "pf_df[pf_df.title.isnull() | pf_df.artist.isnull()]"
   ]
  },
  {
   "cell_type": "code",
   "execution_count": 12,
   "metadata": {},
   "outputs": [
    {
     "data": {
      "text/html": [
       "<div>\n",
       "<table border=\"1\" class=\"dataframe\">\n",
       "  <thead>\n",
       "    <tr style=\"text-align: right;\">\n",
       "      <th></th>\n",
       "      <th>Unnamed: 0</th>\n",
       "      <th>reviewid_main</th>\n",
       "      <th>content</th>\n",
       "      <th>genre</th>\n",
       "      <th>label</th>\n",
       "      <th>title</th>\n",
       "      <th>artist</th>\n",
       "      <th>url</th>\n",
       "      <th>score</th>\n",
       "      <th>best_new_music</th>\n",
       "      <th>author</th>\n",
       "      <th>author_type</th>\n",
       "      <th>pub_date</th>\n",
       "      <th>pub_weekday</th>\n",
       "      <th>pub_day</th>\n",
       "      <th>pub_month</th>\n",
       "      <th>pub_year</th>\n",
       "      <th>year</th>\n",
       "    </tr>\n",
       "  </thead>\n",
       "  <tbody>\n",
       "  </tbody>\n",
       "</table>\n",
       "</div>"
      ],
      "text/plain": [
       "Empty DataFrame\n",
       "Columns: [Unnamed: 0, reviewid_main, content, genre, label, title, artist, url, score, best_new_music, author, author_type, pub_date, pub_weekday, pub_day, pub_month, pub_year, year]\n",
       "Index: []"
      ]
     },
     "execution_count": 12,
     "metadata": {},
     "output_type": "execute_result"
    }
   ],
   "source": [
    "pf_df.ix[15001,'artist'] = 'scandinavian o'\n",
    "pf_df.ix[6874,'title'] = 'cross'\n",
    "pf_df.ix[14963, 'artist'], pf_df.ix[14963, 'title'] = 'crosses', 'crosses'\n",
    "pf_df[pf_df.title.isnull() | pf_df.artist.isnull()]"
   ]
  },
  {
   "cell_type": "markdown",
   "metadata": {},
   "source": [
    "### Step 3. Let's try to merge the two dataframes. "
   ]
  },
  {
   "cell_type": "markdown",
   "metadata": {},
   "source": [
    "Trying to straight up cross join these two dataframes, pf_df and bb_df, caused a memory error on my machine, so we are going to have to come up with a different strategy. "
   ]
  },
  {
   "cell_type": "markdown",
   "metadata": {},
   "source": [
    "Instead, let's pre-process them, so that the fields we merge on look the same, and also make sure we do not include in the merge the albums that are definitely not in both of them."
   ]
  },
  {
   "cell_type": "code",
   "execution_count": 13,
   "metadata": {
    "scrolled": false
   },
   "outputs": [
    {
     "name": "stdout",
     "output_type": "stream",
     "text": [
      "<class 'pandas.core.frame.DataFrame'>\n",
      "Int64Index: 0 entries\n",
      "Data columns (total 6 columns):\n",
      "artist        0 non-null object\n",
      "title         0 non-null object\n",
      "first_week    0 non-null datetime64[ns]\n",
      "peakPos       0 non-null int64\n",
      "weeks         0 non-null int64\n",
      "rank          0 non-null float64\n",
      "dtypes: datetime64[ns](1), float64(1), int64(2), object(2)\n",
      "memory usage: 0.0+ bytes\n"
     ]
    }
   ],
   "source": [
    "bb_df[bb_df['title'].str.startswith(' ') | bb_df['title'].str.endswith(' ')].info()"
   ]
  },
  {
   "cell_type": "code",
   "execution_count": 14,
   "metadata": {},
   "outputs": [
    {
     "name": "stdout",
     "output_type": "stream",
     "text": [
      "<class 'pandas.core.frame.DataFrame'>\n",
      "Int64Index: 81 entries, 781 to 18251\n",
      "Data columns (total 18 columns):\n",
      "Unnamed: 0        81 non-null int64\n",
      "reviewid_main     81 non-null int64\n",
      "content           81 non-null object\n",
      "genre             76 non-null object\n",
      "label             81 non-null object\n",
      "title             81 non-null object\n",
      "artist            81 non-null object\n",
      "url               81 non-null object\n",
      "score             81 non-null float64\n",
      "best_new_music    81 non-null int64\n",
      "author            81 non-null object\n",
      "author_type       73 non-null object\n",
      "pub_date          81 non-null datetime64[ns]\n",
      "pub_weekday       81 non-null int64\n",
      "pub_day           81 non-null int64\n",
      "pub_month         81 non-null int64\n",
      "pub_year          81 non-null int64\n",
      "year              81 non-null float64\n",
      "dtypes: datetime64[ns](1), float64(2), int64(7), object(8)\n",
      "memory usage: 12.0+ KB\n"
     ]
    }
   ],
   "source": [
    "pf_df[pf_df['title'].str.startswith(' ') | pf_df['title'].str.endswith(' ')].info()"
   ]
  },
  {
   "cell_type": "code",
   "execution_count": 15,
   "metadata": {},
   "outputs": [
    {
     "data": {
      "text/html": [
       "<div>\n",
       "<table border=\"1\" class=\"dataframe\">\n",
       "  <thead>\n",
       "    <tr style=\"text-align: right;\">\n",
       "      <th></th>\n",
       "      <th>Unnamed: 0</th>\n",
       "      <th>reviewid_main</th>\n",
       "      <th>content</th>\n",
       "      <th>genre</th>\n",
       "      <th>label</th>\n",
       "      <th>title</th>\n",
       "      <th>artist</th>\n",
       "      <th>url</th>\n",
       "      <th>score</th>\n",
       "      <th>best_new_music</th>\n",
       "      <th>author</th>\n",
       "      <th>author_type</th>\n",
       "      <th>pub_date</th>\n",
       "      <th>pub_weekday</th>\n",
       "      <th>pub_day</th>\n",
       "      <th>pub_month</th>\n",
       "      <th>pub_year</th>\n",
       "      <th>year</th>\n",
       "    </tr>\n",
       "  </thead>\n",
       "  <tbody>\n",
       "  </tbody>\n",
       "</table>\n",
       "</div>"
      ],
      "text/plain": [
       "Empty DataFrame\n",
       "Columns: [Unnamed: 0, reviewid_main, content, genre, label, title, artist, url, score, best_new_music, author, author_type, pub_date, pub_weekday, pub_day, pub_month, pub_year, year]\n",
       "Index: []"
      ]
     },
     "execution_count": 15,
     "metadata": {},
     "output_type": "execute_result"
    }
   ],
   "source": [
    "pf_df['title'] = pf_df['title'].map(lambda x: x.strip())\n",
    "pf_df[pf_df['title'].str.startswith(' ') | pf_df['title'].str.endswith(' ')]"
   ]
  },
  {
   "cell_type": "code",
   "execution_count": 16,
   "metadata": {},
   "outputs": [
    {
     "data": {
      "text/html": [
       "<div>\n",
       "<table border=\"1\" class=\"dataframe\">\n",
       "  <thead>\n",
       "    <tr style=\"text-align: right;\">\n",
       "      <th></th>\n",
       "      <th>artist</th>\n",
       "      <th>title</th>\n",
       "      <th>first_week</th>\n",
       "      <th>peakPos</th>\n",
       "      <th>weeks</th>\n",
       "      <th>rank</th>\n",
       "    </tr>\n",
       "  </thead>\n",
       "  <tbody>\n",
       "    <tr>\n",
       "      <th>0</th>\n",
       "      <td>\"weird al\" yankovic</td>\n",
       "      <td>alpocalypse</td>\n",
       "      <td>2011-07-09</td>\n",
       "      <td>9</td>\n",
       "      <td>3</td>\n",
       "      <td>37.000000</td>\n",
       "    </tr>\n",
       "    <tr>\n",
       "      <th>1</th>\n",
       "      <td>\"weird al\" yankovic</td>\n",
       "      <td>mandatory fun</td>\n",
       "      <td>2014-08-02</td>\n",
       "      <td>1</td>\n",
       "      <td>11</td>\n",
       "      <td>39.800000</td>\n",
       "    </tr>\n",
       "    <tr>\n",
       "      <th>2</th>\n",
       "      <td>\"weird al\" yankovic</td>\n",
       "      <td>poodle hat</td>\n",
       "      <td>2003-06-07</td>\n",
       "      <td>17</td>\n",
       "      <td>9</td>\n",
       "      <td>56.555556</td>\n",
       "    </tr>\n",
       "    <tr>\n",
       "      <th>3</th>\n",
       "      <td>\"weird al\" yankovic</td>\n",
       "      <td>running with scissors</td>\n",
       "      <td>1999-07-17</td>\n",
       "      <td>35</td>\n",
       "      <td>14</td>\n",
       "      <td>44.428571</td>\n",
       "    </tr>\n",
       "    <tr>\n",
       "      <th>4</th>\n",
       "      <td>\"weird al\" yankovic</td>\n",
       "      <td>squeeze box: the complete works of \"weird al\" ...</td>\n",
       "      <td>2017-12-16</td>\n",
       "      <td>65</td>\n",
       "      <td>1</td>\n",
       "      <td>65.000000</td>\n",
       "    </tr>\n",
       "  </tbody>\n",
       "</table>\n",
       "</div>"
      ],
      "text/plain": [
       "                artist                                              title  \\\n",
       "0  \"weird al\" yankovic                                        alpocalypse   \n",
       "1  \"weird al\" yankovic                                      mandatory fun   \n",
       "2  \"weird al\" yankovic                                         poodle hat   \n",
       "3  \"weird al\" yankovic                              running with scissors   \n",
       "4  \"weird al\" yankovic  squeeze box: the complete works of \"weird al\" ...   \n",
       "\n",
       "  first_week  peakPos  weeks       rank  \n",
       "0 2011-07-09        9      3  37.000000  \n",
       "1 2014-08-02        1     11  39.800000  \n",
       "2 2003-06-07       17      9  56.555556  \n",
       "3 1999-07-17       35     14  44.428571  \n",
       "4 2017-12-16       65      1  65.000000  "
      ]
     },
     "execution_count": 16,
     "metadata": {},
     "output_type": "execute_result"
    }
   ],
   "source": [
    "bb_df['artist'] = bb_df['artist'].str.lower()\n",
    "bb_df['title'] = bb_df['title'].str.lower()\n",
    "bb_df.head()"
   ]
  },
  {
   "cell_type": "markdown",
   "metadata": {},
   "source": [
    "Let's remove all punctuation in the titles, so that the same album names are represented by the same exact strings, so we do not differentiate between *'acoustic recordings 1996-2016'* and *'acoustic recordings: 1996-2016'*."
   ]
  },
  {
   "cell_type": "code",
   "execution_count": 23,
   "metadata": {
    "collapsed": true
   },
   "outputs": [],
   "source": [
    "pf_df['title_nopunc'] = pf_df['title'].str.replace('[^\\w\\s]','')\n",
    "bb_df['title_nopunc'] = bb_df['title'].str.replace('[^\\w\\s]','')"
   ]
  },
  {
   "cell_type": "code",
   "execution_count": 24,
   "metadata": {
    "collapsed": true
   },
   "outputs": [],
   "source": [
    "pf_df['title_nopunc'] = pf_df['title_nopunc'].map(lambda x: x.strip())\n",
    "bb_df['title_nopunc'] = bb_df['title_nopunc'].map(lambda x: x.strip())"
   ]
  },
  {
   "cell_type": "markdown",
   "metadata": {},
   "source": [
    "Let's start combining Pitchfork and Billboard data, keeping in mind that two completely different albums may share the same name, e.g. 'Greatest Hits', so in addition to matching album names, we will need to match artists names to arrive at a correct inner merge. "
   ]
  },
  {
   "cell_type": "markdown",
   "metadata": {},
   "source": [
    "We will match artist names like this, to account for collaborations: the name of the artist on Pitchfork should be contained within the name of the artist on Billboard. <br> We trust that Billboard will have all artist names included, more so than Pitchfork, because Pitchfork data came with a separate Artists table that may have contained more artists per review than their main Reviews table."
   ]
  },
  {
   "cell_type": "code",
   "execution_count": 27,
   "metadata": {
    "collapsed": true
   },
   "outputs": [],
   "source": [
    "def match_artists(x):\n",
    "    return (x['artist_pf'] in x['artist_bb'])"
   ]
  },
  {
   "cell_type": "markdown",
   "metadata": {},
   "source": [
    "Let's merge based on titles without punctuation, then filter on artists"
   ]
  },
  {
   "cell_type": "code",
   "execution_count": 28,
   "metadata": {},
   "outputs": [
    {
     "name": "stdout",
     "output_type": "stream",
     "text": [
      "<class 'pandas.core.frame.DataFrame'>\n",
      "Int64Index: 3518 entries, 0 to 3517\n",
      "Data columns (total 25 columns):\n",
      "Unnamed: 0        3518 non-null int64\n",
      "reviewid_main     3518 non-null int64\n",
      "content           3518 non-null object\n",
      "genre             3372 non-null object\n",
      "label             3500 non-null object\n",
      "title_pf          3518 non-null object\n",
      "artist_pf         3518 non-null object\n",
      "url               3518 non-null object\n",
      "score             3518 non-null float64\n",
      "best_new_music    3518 non-null int64\n",
      "author            3518 non-null object\n",
      "author_type       2865 non-null object\n",
      "pub_date          3518 non-null datetime64[ns]\n",
      "pub_weekday       3518 non-null int64\n",
      "pub_day           3518 non-null int64\n",
      "pub_month         3518 non-null int64\n",
      "pub_year          3518 non-null int64\n",
      "year              3477 non-null float64\n",
      "title_nopunc      3518 non-null object\n",
      "artist_bb         3518 non-null object\n",
      "title_bb          3518 non-null object\n",
      "first_week        3518 non-null datetime64[ns]\n",
      "peakPos           3518 non-null int64\n",
      "weeks             3518 non-null int64\n",
      "rank              3518 non-null float64\n",
      "dtypes: datetime64[ns](2), float64(3), int64(9), object(11)\n",
      "memory usage: 714.6+ KB\n"
     ]
    }
   ],
   "source": [
    "df_title_nopunc = pd.merge(pf_df, bb_df, on=['title_nopunc'], suffixes=('_pf', '_bb'))\n",
    "df_title_nopunc.info()"
   ]
  },
  {
   "cell_type": "code",
   "execution_count": 29,
   "metadata": {},
   "outputs": [
    {
     "data": {
      "text/plain": [
       "False    1782\n",
       "True     1736\n",
       "Name: artist_match, dtype: int64"
      ]
     },
     "execution_count": 29,
     "metadata": {},
     "output_type": "execute_result"
    }
   ],
   "source": [
    "df_title_nopunc['artist_match'] = df_title_nopunc.apply(match_artists, axis = 1)\n",
    "df_title_nopunc['artist_match'].value_counts()"
   ]
  },
  {
   "cell_type": "code",
   "execution_count": 30,
   "metadata": {
    "collapsed": true
   },
   "outputs": [],
   "source": [
    "df_title_nopunc_then_artist = df_title_nopunc[df_title_nopunc['artist_match']]"
   ]
  },
  {
   "cell_type": "markdown",
   "metadata": {},
   "source": [
    "How about removing punctuation from artists too?"
   ]
  },
  {
   "cell_type": "code",
   "execution_count": 31,
   "metadata": {
    "collapsed": true
   },
   "outputs": [],
   "source": [
    "def match_artists_nopunc(x):\n",
    "    return (x['artist_pf'].replace('[^\\w\\s]','') in x['artist_bb'].replace('[^\\w\\s]',''))"
   ]
  },
  {
   "cell_type": "code",
   "execution_count": 32,
   "metadata": {
    "scrolled": true
   },
   "outputs": [
    {
     "data": {
      "text/plain": [
       "False    1782\n",
       "True     1736\n",
       "Name: artist_match_no_punc, dtype: int64"
      ]
     },
     "execution_count": 32,
     "metadata": {},
     "output_type": "execute_result"
    }
   ],
   "source": [
    "df_title_nopunc['artist_match_no_punc'] = df_title_nopunc.apply(match_artists_nopunc, axis = 1)\n",
    "df_title_nopunc['artist_match_no_punc'].value_counts()"
   ]
  },
  {
   "cell_type": "markdown",
   "metadata": {},
   "source": [
    "The result is the same as for keeping punctuation in artists' names, so `df_title_nopunc_then_artist` is good to go as our inner merge result."
   ]
  },
  {
   "cell_type": "markdown",
   "metadata": {},
   "source": [
    "Let's remove some of the variables we have accumulated that are duplicative or will not serve us much in our visualizations."
   ]
  },
  {
   "cell_type": "code",
   "execution_count": 33,
   "metadata": {
    "scrolled": true
   },
   "outputs": [
    {
     "name": "stdout",
     "output_type": "stream",
     "text": [
      "<class 'pandas.core.frame.DataFrame'>\n",
      "Int64Index: 1736 entries, 1 to 3517\n",
      "Data columns (total 26 columns):\n",
      "Unnamed: 0        1736 non-null int64\n",
      "reviewid_main     1736 non-null int64\n",
      "content           1736 non-null object\n",
      "genre             1699 non-null object\n",
      "label             1734 non-null object\n",
      "title_pf          1736 non-null object\n",
      "artist_pf         1736 non-null object\n",
      "url               1736 non-null object\n",
      "score             1736 non-null float64\n",
      "best_new_music    1736 non-null int64\n",
      "author            1736 non-null object\n",
      "author_type       1514 non-null object\n",
      "pub_date          1736 non-null datetime64[ns]\n",
      "pub_weekday       1736 non-null int64\n",
      "pub_day           1736 non-null int64\n",
      "pub_month         1736 non-null int64\n",
      "pub_year          1736 non-null int64\n",
      "year              1727 non-null float64\n",
      "title_nopunc      1736 non-null object\n",
      "artist_bb         1736 non-null object\n",
      "title_bb          1736 non-null object\n",
      "first_week        1736 non-null datetime64[ns]\n",
      "peakPos           1736 non-null int64\n",
      "weeks             1736 non-null int64\n",
      "rank              1736 non-null float64\n",
      "artist_match      1736 non-null bool\n",
      "dtypes: bool(1), datetime64[ns](2), float64(3), int64(9), object(11)\n",
      "memory usage: 354.3+ KB\n"
     ]
    }
   ],
   "source": [
    "df_title_nopunc_then_artist.info()"
   ]
  },
  {
   "cell_type": "code",
   "execution_count": 34,
   "metadata": {},
   "outputs": [
    {
     "name": "stdout",
     "output_type": "stream",
     "text": [
      "<class 'pandas.core.frame.DataFrame'>\n",
      "Int64Index: 1736 entries, 1 to 3517\n",
      "Data columns (total 24 columns):\n",
      "reviewid_main     1736 non-null int64\n",
      "content           1736 non-null object\n",
      "genre             1699 non-null object\n",
      "label             1734 non-null object\n",
      "title_pf          1736 non-null object\n",
      "artist_pf         1736 non-null object\n",
      "url               1736 non-null object\n",
      "score             1736 non-null float64\n",
      "best_new_music    1736 non-null int64\n",
      "author            1736 non-null object\n",
      "author_type       1514 non-null object\n",
      "pub_date          1736 non-null datetime64[ns]\n",
      "pub_weekday       1736 non-null int64\n",
      "pub_day           1736 non-null int64\n",
      "pub_month         1736 non-null int64\n",
      "pub_year          1736 non-null int64\n",
      "year              1727 non-null float64\n",
      "title_nopunc      1736 non-null object\n",
      "artist_bb         1736 non-null object\n",
      "title_bb          1736 non-null object\n",
      "first_week        1736 non-null datetime64[ns]\n",
      "peakPos           1736 non-null int64\n",
      "weeks             1736 non-null int64\n",
      "rank              1736 non-null float64\n",
      "dtypes: datetime64[ns](2), float64(3), int64(8), object(11)\n",
      "memory usage: 339.1+ KB\n"
     ]
    },
    {
     "name": "stderr",
     "output_type": "stream",
     "text": [
      "C:\\Users\\Dinara\\Anaconda3\\lib\\site-packages\\ipykernel\\__main__.py:2: SettingWithCopyWarning: \n",
      "A value is trying to be set on a copy of a slice from a DataFrame\n",
      "\n",
      "See the caveats in the documentation: http://pandas.pydata.org/pandas-docs/stable/indexing.html#indexing-view-versus-copy\n",
      "  from ipykernel import kernelapp as app\n"
     ]
    }
   ],
   "source": [
    "df = df_title_nopunc_then_artist\n",
    "df.drop(['Unnamed: 0', 'artist_match'], axis = 1, inplace = True)\n",
    "df.info()"
   ]
  },
  {
   "cell_type": "markdown",
   "metadata": {},
   "source": [
    "And remove any duplicates."
   ]
  },
  {
   "cell_type": "code",
   "execution_count": 40,
   "metadata": {},
   "outputs": [
    {
     "data": {
      "text/html": [
       "<div>\n",
       "<table border=\"1\" class=\"dataframe\">\n",
       "  <thead>\n",
       "    <tr style=\"text-align: right;\">\n",
       "      <th></th>\n",
       "      <th>reviewid_main</th>\n",
       "      <th>content</th>\n",
       "      <th>genre</th>\n",
       "      <th>label</th>\n",
       "      <th>title_pf</th>\n",
       "      <th>artist_pf</th>\n",
       "      <th>url</th>\n",
       "      <th>score</th>\n",
       "      <th>best_new_music</th>\n",
       "      <th>author</th>\n",
       "      <th>...</th>\n",
       "      <th>pub_month</th>\n",
       "      <th>pub_year</th>\n",
       "      <th>year</th>\n",
       "      <th>title_nopunc</th>\n",
       "      <th>artist_bb</th>\n",
       "      <th>title_bb</th>\n",
       "      <th>first_week</th>\n",
       "      <th>peakPos</th>\n",
       "      <th>weeks</th>\n",
       "      <th>rank</th>\n",
       "    </tr>\n",
       "  </thead>\n",
       "  <tbody>\n",
       "    <tr>\n",
       "      <th>2033</th>\n",
       "      <td>13316</td>\n",
       "      <td>Heartbreak is a constant in  popular music, an...</td>\n",
       "      <td>pop/r&amp;b</td>\n",
       "      <td>columbia</td>\n",
       "      <td>blacksummers'night</td>\n",
       "      <td>maxwell</td>\n",
       "      <td>http://pitchfork.com/reviews/albums/13316-blac...</td>\n",
       "      <td>7.8</td>\n",
       "      <td>0</td>\n",
       "      <td>david drake</td>\n",
       "      <td>...</td>\n",
       "      <td>7</td>\n",
       "      <td>2009</td>\n",
       "      <td>2009.0</td>\n",
       "      <td>blacksummersnight</td>\n",
       "      <td>maxwell</td>\n",
       "      <td>blacksummers'night</td>\n",
       "      <td>2016-07-23</td>\n",
       "      <td>2</td>\n",
       "      <td>14</td>\n",
       "      <td>43.642857</td>\n",
       "    </tr>\n",
       "    <tr>\n",
       "      <th>2035</th>\n",
       "      <td>22057</td>\n",
       "      <td>Though consistently excellent, Maxwell has alw...</td>\n",
       "      <td>pop/r&amp;b</td>\n",
       "      <td>columbia</td>\n",
       "      <td>blacksummersnight</td>\n",
       "      <td>maxwell</td>\n",
       "      <td>http://pitchfork.com/reviews/albums/22057-maxw...</td>\n",
       "      <td>8.4</td>\n",
       "      <td>1</td>\n",
       "      <td>rebecca haithcoat</td>\n",
       "      <td>...</td>\n",
       "      <td>7</td>\n",
       "      <td>2016</td>\n",
       "      <td>2016.0</td>\n",
       "      <td>blacksummersnight</td>\n",
       "      <td>maxwell</td>\n",
       "      <td>blacksummers'night</td>\n",
       "      <td>2016-07-23</td>\n",
       "      <td>2</td>\n",
       "      <td>14</td>\n",
       "      <td>43.642857</td>\n",
       "    </tr>\n",
       "  </tbody>\n",
       "</table>\n",
       "<p>2 rows × 24 columns</p>\n",
       "</div>"
      ],
      "text/plain": [
       "      reviewid_main                                            content  \\\n",
       "2033          13316  Heartbreak is a constant in  popular music, an...   \n",
       "2035          22057  Though consistently excellent, Maxwell has alw...   \n",
       "\n",
       "        genre     label            title_pf artist_pf  \\\n",
       "2033  pop/r&b  columbia  blacksummers'night   maxwell   \n",
       "2035  pop/r&b  columbia   blacksummersnight   maxwell   \n",
       "\n",
       "                                                    url  score  \\\n",
       "2033  http://pitchfork.com/reviews/albums/13316-blac...    7.8   \n",
       "2035  http://pitchfork.com/reviews/albums/22057-maxw...    8.4   \n",
       "\n",
       "      best_new_music             author    ...     pub_month pub_year    year  \\\n",
       "2033               0        david drake    ...             7     2009  2009.0   \n",
       "2035               1  rebecca haithcoat    ...             7     2016  2016.0   \n",
       "\n",
       "           title_nopunc  artist_bb            title_bb  first_week peakPos  \\\n",
       "2033  blacksummersnight    maxwell  blacksummers'night  2016-07-23       2   \n",
       "2035  blacksummersnight    maxwell  blacksummers'night  2016-07-23       2   \n",
       "\n",
       "     weeks       rank  \n",
       "2033    14  43.642857  \n",
       "2035    14  43.642857  \n",
       "\n",
       "[2 rows x 24 columns]"
      ]
     },
     "execution_count": 40,
     "metadata": {},
     "output_type": "execute_result"
    }
   ],
   "source": [
    "df[df.duplicated(subset=['reviewid_main'])]"
   ]
  },
  {
   "cell_type": "code",
   "execution_count": 41,
   "metadata": {},
   "outputs": [
    {
     "data": {
      "text/html": [
       "<div>\n",
       "<table border=\"1\" class=\"dataframe\">\n",
       "  <thead>\n",
       "    <tr style=\"text-align: right;\">\n",
       "      <th></th>\n",
       "      <th>reviewid_main</th>\n",
       "      <th>content</th>\n",
       "      <th>genre</th>\n",
       "      <th>label</th>\n",
       "      <th>title_pf</th>\n",
       "      <th>artist_pf</th>\n",
       "      <th>url</th>\n",
       "      <th>score</th>\n",
       "      <th>best_new_music</th>\n",
       "      <th>author</th>\n",
       "      <th>...</th>\n",
       "      <th>pub_month</th>\n",
       "      <th>pub_year</th>\n",
       "      <th>year</th>\n",
       "      <th>title_nopunc</th>\n",
       "      <th>artist_bb</th>\n",
       "      <th>title_bb</th>\n",
       "      <th>first_week</th>\n",
       "      <th>peakPos</th>\n",
       "      <th>weeks</th>\n",
       "      <th>rank</th>\n",
       "    </tr>\n",
       "  </thead>\n",
       "  <tbody>\n",
       "    <tr>\n",
       "      <th>2032</th>\n",
       "      <td>13316</td>\n",
       "      <td>Heartbreak is a constant in  popular music, an...</td>\n",
       "      <td>pop/r&amp;b</td>\n",
       "      <td>columbia</td>\n",
       "      <td>blacksummers'night</td>\n",
       "      <td>maxwell</td>\n",
       "      <td>http://pitchfork.com/reviews/albums/13316-blac...</td>\n",
       "      <td>7.8</td>\n",
       "      <td>0</td>\n",
       "      <td>david drake</td>\n",
       "      <td>...</td>\n",
       "      <td>7</td>\n",
       "      <td>2009</td>\n",
       "      <td>2009.0</td>\n",
       "      <td>blacksummersnight</td>\n",
       "      <td>maxwell</td>\n",
       "      <td>blacksummers'night</td>\n",
       "      <td>2009-07-25</td>\n",
       "      <td>1</td>\n",
       "      <td>36</td>\n",
       "      <td>44.733333</td>\n",
       "    </tr>\n",
       "    <tr>\n",
       "      <th>2033</th>\n",
       "      <td>13316</td>\n",
       "      <td>Heartbreak is a constant in  popular music, an...</td>\n",
       "      <td>pop/r&amp;b</td>\n",
       "      <td>columbia</td>\n",
       "      <td>blacksummers'night</td>\n",
       "      <td>maxwell</td>\n",
       "      <td>http://pitchfork.com/reviews/albums/13316-blac...</td>\n",
       "      <td>7.8</td>\n",
       "      <td>0</td>\n",
       "      <td>david drake</td>\n",
       "      <td>...</td>\n",
       "      <td>7</td>\n",
       "      <td>2009</td>\n",
       "      <td>2009.0</td>\n",
       "      <td>blacksummersnight</td>\n",
       "      <td>maxwell</td>\n",
       "      <td>blacksummers'night</td>\n",
       "      <td>2016-07-23</td>\n",
       "      <td>2</td>\n",
       "      <td>14</td>\n",
       "      <td>43.642857</td>\n",
       "    </tr>\n",
       "    <tr>\n",
       "      <th>2034</th>\n",
       "      <td>22057</td>\n",
       "      <td>Though consistently excellent, Maxwell has alw...</td>\n",
       "      <td>pop/r&amp;b</td>\n",
       "      <td>columbia</td>\n",
       "      <td>blacksummersnight</td>\n",
       "      <td>maxwell</td>\n",
       "      <td>http://pitchfork.com/reviews/albums/22057-maxw...</td>\n",
       "      <td>8.4</td>\n",
       "      <td>1</td>\n",
       "      <td>rebecca haithcoat</td>\n",
       "      <td>...</td>\n",
       "      <td>7</td>\n",
       "      <td>2016</td>\n",
       "      <td>2016.0</td>\n",
       "      <td>blacksummersnight</td>\n",
       "      <td>maxwell</td>\n",
       "      <td>blacksummers'night</td>\n",
       "      <td>2009-07-25</td>\n",
       "      <td>1</td>\n",
       "      <td>36</td>\n",
       "      <td>44.733333</td>\n",
       "    </tr>\n",
       "    <tr>\n",
       "      <th>2035</th>\n",
       "      <td>22057</td>\n",
       "      <td>Though consistently excellent, Maxwell has alw...</td>\n",
       "      <td>pop/r&amp;b</td>\n",
       "      <td>columbia</td>\n",
       "      <td>blacksummersnight</td>\n",
       "      <td>maxwell</td>\n",
       "      <td>http://pitchfork.com/reviews/albums/22057-maxw...</td>\n",
       "      <td>8.4</td>\n",
       "      <td>1</td>\n",
       "      <td>rebecca haithcoat</td>\n",
       "      <td>...</td>\n",
       "      <td>7</td>\n",
       "      <td>2016</td>\n",
       "      <td>2016.0</td>\n",
       "      <td>blacksummersnight</td>\n",
       "      <td>maxwell</td>\n",
       "      <td>blacksummers'night</td>\n",
       "      <td>2016-07-23</td>\n",
       "      <td>2</td>\n",
       "      <td>14</td>\n",
       "      <td>43.642857</td>\n",
       "    </tr>\n",
       "  </tbody>\n",
       "</table>\n",
       "<p>4 rows × 24 columns</p>\n",
       "</div>"
      ],
      "text/plain": [
       "      reviewid_main                                            content  \\\n",
       "2032          13316  Heartbreak is a constant in  popular music, an...   \n",
       "2033          13316  Heartbreak is a constant in  popular music, an...   \n",
       "2034          22057  Though consistently excellent, Maxwell has alw...   \n",
       "2035          22057  Though consistently excellent, Maxwell has alw...   \n",
       "\n",
       "        genre     label            title_pf artist_pf  \\\n",
       "2032  pop/r&b  columbia  blacksummers'night   maxwell   \n",
       "2033  pop/r&b  columbia  blacksummers'night   maxwell   \n",
       "2034  pop/r&b  columbia   blacksummersnight   maxwell   \n",
       "2035  pop/r&b  columbia   blacksummersnight   maxwell   \n",
       "\n",
       "                                                    url  score  \\\n",
       "2032  http://pitchfork.com/reviews/albums/13316-blac...    7.8   \n",
       "2033  http://pitchfork.com/reviews/albums/13316-blac...    7.8   \n",
       "2034  http://pitchfork.com/reviews/albums/22057-maxw...    8.4   \n",
       "2035  http://pitchfork.com/reviews/albums/22057-maxw...    8.4   \n",
       "\n",
       "      best_new_music             author    ...     pub_month pub_year    year  \\\n",
       "2032               0        david drake    ...             7     2009  2009.0   \n",
       "2033               0        david drake    ...             7     2009  2009.0   \n",
       "2034               1  rebecca haithcoat    ...             7     2016  2016.0   \n",
       "2035               1  rebecca haithcoat    ...             7     2016  2016.0   \n",
       "\n",
       "           title_nopunc  artist_bb            title_bb  first_week peakPos  \\\n",
       "2032  blacksummersnight    maxwell  blacksummers'night  2009-07-25       1   \n",
       "2033  blacksummersnight    maxwell  blacksummers'night  2016-07-23       2   \n",
       "2034  blacksummersnight    maxwell  blacksummers'night  2009-07-25       1   \n",
       "2035  blacksummersnight    maxwell  blacksummers'night  2016-07-23       2   \n",
       "\n",
       "     weeks       rank  \n",
       "2032    36  44.733333  \n",
       "2033    14  43.642857  \n",
       "2034    36  44.733333  \n",
       "2035    14  43.642857  \n",
       "\n",
       "[4 rows x 24 columns]"
      ]
     },
     "execution_count": 41,
     "metadata": {},
     "output_type": "execute_result"
    }
   ],
   "source": [
    "df[df['title_nopunc'] == 'blacksummersnight']"
   ]
  },
  {
   "cell_type": "code",
   "execution_count": 42,
   "metadata": {
    "collapsed": true
   },
   "outputs": [
    {
     "name": "stdout",
     "output_type": "stream",
     "text": [
      "<class 'pandas.core.frame.DataFrame'>\n",
      "Int64Index: 1734 entries, 1 to 3517\n",
      "Data columns (total 24 columns):\n",
      "reviewid_main     1734 non-null int64\n",
      "content           1734 non-null object\n",
      "genre             1697 non-null object\n",
      "label             1732 non-null object\n",
      "title_pf          1734 non-null object\n",
      "artist_pf         1734 non-null object\n",
      "url               1734 non-null object\n",
      "score             1734 non-null float64\n",
      "best_new_music    1734 non-null int64\n",
      "author            1734 non-null object\n",
      "author_type       1512 non-null object\n",
      "pub_date          1734 non-null datetime64[ns]\n",
      "pub_weekday       1734 non-null int64\n",
      "pub_day           1734 non-null int64\n",
      "pub_month         1734 non-null int64\n",
      "pub_year          1734 non-null int64\n",
      "year              1725 non-null float64\n",
      "title_nopunc      1734 non-null object\n",
      "artist_bb         1734 non-null object\n",
      "title_bb          1734 non-null object\n",
      "first_week        1734 non-null datetime64[ns]\n",
      "peakPos           1734 non-null int64\n",
      "weeks             1734 non-null int64\n",
      "rank              1734 non-null float64\n",
      "dtypes: datetime64[ns](2), float64(3), int64(8), object(11)\n",
      "memory usage: 338.7+ KB\n"
     ]
    },
    {
     "name": "stderr",
     "output_type": "stream",
     "text": [
      "C:\\Users\\Dinara\\Anaconda3\\lib\\site-packages\\pandas\\util\\decorators.py:91: SettingWithCopyWarning: \n",
      "A value is trying to be set on a copy of a slice from a DataFrame\n",
      "\n",
      "See the caveats in the documentation: http://pandas.pydata.org/pandas-docs/stable/indexing.html#indexing-view-versus-copy\n",
      "  return func(*args, **kwargs)\n"
     ]
    }
   ],
   "source": [
    "df.drop_duplicates(subset = ['reviewid_main'], inplace = True)\n",
    "df.info()"
   ]
  },
  {
   "cell_type": "code",
   "execution_count": 43,
   "metadata": {},
   "outputs": [
    {
     "name": "stdout",
     "output_type": "stream",
     "text": [
      "Only about 9.43 percent of albums reviewed by Pitchfork ever appear on Billboard 100 Top Album Chart.\n"
     ]
    }
   ],
   "source": [
    "print('Only about %.2f percent of albums reviewed by Pitchfork ever appear on Billboard 100 Top Album Chart.' %(len(df)*100/len(pf_df)))"
   ]
  },
  {
   "cell_type": "markdown",
   "metadata": {},
   "source": [
    "# Insight 1: Only about 9.4% of albums reviewed by Pitchfork ever appear on Billboard 100 Top Album Sales Chart. Pitchfork definitely lives up to its indie image!"
   ]
  },
  {
   "cell_type": "markdown",
   "metadata": {},
   "source": [
    "### Step 4. For albums appearing in both, what is the difference between review publication and Billboard first week appearance?"
   ]
  },
  {
   "cell_type": "code",
   "execution_count": 44,
   "metadata": {
    "collapsed": true
   },
   "outputs": [],
   "source": [
    "from datetime import datetime\n",
    "from datetime import timedelta"
   ]
  },
  {
   "cell_type": "code",
   "execution_count": 45,
   "metadata": {
    "collapsed": true
   },
   "outputs": [],
   "source": [
    "delta = pd.to_datetime(df['first_week']).subtract(pd.to_datetime(df['pub_date'])) "
   ]
  },
  {
   "cell_type": "code",
   "execution_count": 46,
   "metadata": {},
   "outputs": [
    {
     "data": {
      "text/plain": [
       "<matplotlib.axes._subplots.AxesSubplot at 0x1952729c0f0>"
      ]
     },
     "execution_count": 46,
     "metadata": {},
     "output_type": "execute_result"
    },
    {
     "data": {
      "image/png": "[encoded data removed]",
      "text/plain": [
       "<matplotlib.figure.Figure at 0x195272815c0>"
      ]
     },
     "metadata": {},
     "output_type": "display_data"
    }
   ],
   "source": [
    "%matplotlib inline\n",
    "from matplotlib.pylab import rcParams\n",
    "import math\n",
    "rcParams['figure.figsize'] = 12, 10\n",
    "days = delta.apply(lambda x: x.days)\n",
    "days_no_outliers = [x for x in days if abs(x)<140]\n",
    "sns.boxplot(days_no_outliers)"
   ]
  },
  {
   "cell_type": "code",
   "execution_count": 47,
   "metadata": {},
   "outputs": [
    {
     "data": {
      "text/plain": [
       "count    1734.000000\n",
       "mean       -2.862168\n",
       "std       526.211558\n",
       "min     -6853.000000\n",
       "25%        11.000000\n",
       "50%        17.000000\n",
       "75%        19.000000\n",
       "max      5744.000000\n",
       "dtype: float64"
      ]
     },
     "execution_count": 47,
     "metadata": {},
     "output_type": "execute_result"
    }
   ],
   "source": [
    "days.describe()"
   ]
  },
  {
   "cell_type": "markdown",
   "metadata": {},
   "source": [
    "# Insight 2: Over 50% of these albums first appear on Billboard within 2-3 weeks after the Pitchfork review."
   ]
  },
  {
   "cell_type": "code",
   "execution_count": 51,
   "metadata": {
    "scrolled": true
   },
   "outputs": [
    {
     "data": {
      "text/plain": [
       "<matplotlib.axes._subplots.AxesSubplot at 0x1952ff2b9b0>"
      ]
     },
     "execution_count": 51,
     "metadata": {},
     "output_type": "execute_result"
    },
    {
     "data": {
      "image/png": "[encoded data removed]",
      "text/plain": [
       "<matplotlib.figure.Figure at 0x195274106a0>"
      ]
     },
     "metadata": {},
     "output_type": "display_data"
    }
   ],
   "source": [
    "sns.violinplot(days)"
   ]
  },
  {
   "cell_type": "code",
   "execution_count": 52,
   "metadata": {},
   "outputs": [
    {
     "data": {
      "text/plain": [
       "<matplotlib.axes._subplots.AxesSubplot at 0x1952ffb90b8>"
      ]
     },
     "execution_count": 52,
     "metadata": {},
     "output_type": "execute_result"
    },
    {
     "data": {
      "image/png": "[encoded data removed]",
      "text/plain": [
       "<matplotlib.figure.Figure at 0x1951d359358>"
      ]
     },
     "metadata": {},
     "output_type": "display_data"
    }
   ],
   "source": [
    "sns.violinplot(days_no_outliers)"
   ]
  },
  {
   "cell_type": "code",
   "execution_count": 53,
   "metadata": {},
   "outputs": [
    {
     "name": "stdout",
     "output_type": "stream",
     "text": [
      "<class 'pandas.core.frame.DataFrame'>\n",
      "Int64Index: 37 entries, 2 to 3513\n",
      "Data columns (total 24 columns):\n",
      "reviewid_main     37 non-null int64\n",
      "content           37 non-null object\n",
      "genre             37 non-null object\n",
      "label             37 non-null object\n",
      "title_pf          37 non-null object\n",
      "artist_pf         37 non-null object\n",
      "url               37 non-null object\n",
      "score             37 non-null float64\n",
      "best_new_music    37 non-null int64\n",
      "author            37 non-null object\n",
      "author_type       29 non-null object\n",
      "pub_date          37 non-null datetime64[ns]\n",
      "pub_weekday       37 non-null int64\n",
      "pub_day           37 non-null int64\n",
      "pub_month         37 non-null int64\n",
      "pub_year          37 non-null int64\n",
      "year              36 non-null float64\n",
      "title_nopunc      37 non-null object\n",
      "artist_bb         37 non-null object\n",
      "title_bb          37 non-null object\n",
      "first_week        37 non-null datetime64[ns]\n",
      "peakPos           37 non-null int64\n",
      "weeks             37 non-null int64\n",
      "rank              37 non-null float64\n",
      "dtypes: datetime64[ns](2), float64(3), int64(8), object(11)\n",
      "memory usage: 7.2+ KB\n"
     ]
    }
   ],
   "source": [
    "year_diff = df[abs(days)>365]\n",
    "year_diff.info()"
   ]
  },
  {
   "cell_type": "code",
   "execution_count": 54,
   "metadata": {},
   "outputs": [
    {
     "data": {
      "text/plain": [
       "2.1337946943483272"
      ]
     },
     "execution_count": 54,
     "metadata": {},
     "output_type": "execute_result"
    }
   ],
   "source": [
    "len(year_diff)/len(days)*100"
   ]
  },
  {
   "cell_type": "markdown",
   "metadata": {
    "collapsed": true
   },
   "source": [
    "# Insight 3: About 2% of albums that are both reviewed by Pitchfork, and are on Billboard, are such that their review on Pitchfork and Billboard appearance are *over a year apart*."
   ]
  },
  {
   "cell_type": "code",
   "execution_count": 56,
   "metadata": {},
   "outputs": [
    {
     "data": {
      "text/plain": [
       "45.94594594594595"
      ]
     },
     "execution_count": 56,
     "metadata": {},
     "output_type": "execute_result"
    }
   ],
   "source": [
    "pf_then_bb = df[days>365]\n",
    "len(pf_then_bb)/len(year_diff)*100"
   ]
  },
  {
   "cell_type": "markdown",
   "metadata": {},
   "source": [
    "# And over half of those outliers are such that Pitchfork is playing catch-up with Billboard, reviewing albums that became commercially successful over a year later!"
   ]
  },
  {
   "cell_type": "markdown",
   "metadata": {},
   "source": [
    "### Step 5. Now let's explore how Pitchfork treats some of the most successful albums on Billboard."
   ]
  },
  {
   "cell_type": "code",
   "execution_count": 59,
   "metadata": {},
   "outputs": [
    {
     "data": {
      "text/plain": [
       "reviewid_main                                                  2773\n",
       "content           Frankly, I don't want to hear these songs anym...\n",
       "genre                                                           rap\n",
       "label                                                    interscope\n",
       "title_pf                                     curtain call: the hits\n",
       "artist_pf                                                    eminem\n",
       "url               http://pitchfork.com/reviews/albums/2773-curta...\n",
       "score                                                           6.9\n",
       "best_new_music                                                    0\n",
       "author                                               sean fennessey\n",
       "author_type                                             contributor\n",
       "pub_date                                        2005-12-05 00:00:00\n",
       "pub_weekday                                                       0\n",
       "pub_day                                                           5\n",
       "pub_month                                                        12\n",
       "pub_year                                                       2005\n",
       "year                                                           2005\n",
       "title_nopunc                                  curtain call the hits\n",
       "artist_bb                                                    eminem\n",
       "title_bb                                     curtain call: the hits\n",
       "first_week                                      2005-12-24 00:00:00\n",
       "peakPos                                                           1\n",
       "weeks                                                           233\n",
       "rank                                                        55.7143\n",
       "Name: 390, dtype: object"
      ]
     },
     "execution_count": 59,
     "metadata": {},
     "output_type": "execute_result"
    }
   ],
   "source": [
    "df.loc[df['weeks'].idxmax()]"
   ]
  },
  {
   "cell_type": "markdown",
   "metadata": {
    "collapsed": true
   },
   "source": [
    "# Insight 4: Among the albums that Pitchfork reviewed the one that spent the most number of weeks on Billboard albums chart: Eminem's 'Curtain Call: the Hits'. Pitchfork reviewed it a couple of weeks before it debuted on Billboard, and the review is less than complimentary.\n",
    "Notably, Pitchfork's mean review score is about 7.0, and they consider albums with scores 8+ excellent (according to their website)."
   ]
  },
  {
   "cell_type": "code",
   "execution_count": 62,
   "metadata": {},
   "outputs": [
    {
     "data": {
      "text/plain": [
       "count    18379.000000\n",
       "mean         7.006110\n",
       "std          1.292819\n",
       "min          0.000000\n",
       "25%          6.400000\n",
       "50%          7.200000\n",
       "75%          7.800000\n",
       "max         10.000000\n",
       "Name: score, dtype: float64"
      ]
     },
     "execution_count": 62,
     "metadata": {},
     "output_type": "execute_result"
    },
    {
     "data": {
      "image/png": "[encoded data removed]",
      "text/plain": [
       "<matplotlib.figure.Figure at 0x195273afac8>"
      ]
     },
     "metadata": {},
     "output_type": "display_data"
    }
   ],
   "source": [
    "#Footnote. Overall Pitchfork score statistics:\n",
    "sns.boxplot(pf_df.score)\n",
    "pf_df.score.describe()"
   ]
  },
  {
   "cell_type": "markdown",
   "metadata": {},
   "source": [
    "What about the rest of the commercially successful albums on that list? Let's assume an album is definitely a commercial success if it was on Billboard album chart for over 52 weeks."
   ]
  },
  {
   "cell_type": "code",
   "execution_count": 64,
   "metadata": {},
   "outputs": [
    {
     "name": "stdout",
     "output_type": "stream",
     "text": [
      "<class 'pandas.core.frame.DataFrame'>\n",
      "Int64Index: 77 entries, 39 to 3499\n",
      "Data columns (total 24 columns):\n",
      "reviewid_main     77 non-null int64\n",
      "content           77 non-null object\n",
      "genre             77 non-null object\n",
      "label             77 non-null object\n",
      "title_pf          77 non-null object\n",
      "artist_pf         77 non-null object\n",
      "url               77 non-null object\n",
      "score             77 non-null float64\n",
      "best_new_music    77 non-null int64\n",
      "author            77 non-null object\n",
      "author_type       67 non-null object\n",
      "pub_date          77 non-null datetime64[ns]\n",
      "pub_weekday       77 non-null int64\n",
      "pub_day           77 non-null int64\n",
      "pub_month         77 non-null int64\n",
      "pub_year          77 non-null int64\n",
      "year              77 non-null float64\n",
      "title_nopunc      77 non-null object\n",
      "artist_bb         77 non-null object\n",
      "title_bb          77 non-null object\n",
      "first_week        77 non-null datetime64[ns]\n",
      "peakPos           77 non-null int64\n",
      "weeks             77 non-null int64\n",
      "rank              77 non-null float64\n",
      "dtypes: datetime64[ns](2), float64(3), int64(8), object(11)\n",
      "memory usage: 15.0+ KB\n"
     ]
    }
   ],
   "source": [
    "over_52weeks = df[df['weeks']>=52]\n",
    "over_52weeks.info()"
   ]
  },
  {
   "cell_type": "code",
   "execution_count": 66,
   "metadata": {},
   "outputs": [
    {
     "data": {
      "text/plain": [
       "count    77.000000\n",
       "mean      6.727273\n",
       "std       1.887398\n",
       "min       1.500000\n",
       "25%       5.500000\n",
       "50%       6.900000\n",
       "75%       8.200000\n",
       "max      10.000000\n",
       "Name: score, dtype: float64"
      ]
     },
     "execution_count": 66,
     "metadata": {},
     "output_type": "execute_result"
    },
    {
     "data": {
      "image/png": "[encoded data removed]",
      "text/plain": [
       "<matplotlib.figure.Figure at 0x19530896e80>"
      ]
     },
     "metadata": {},
     "output_type": "display_data"
    }
   ],
   "source": [
    "sns.boxplot(over_52weeks.score)\n",
    "over_52weeks.score.describe()"
   ]
  },
  {
   "cell_type": "markdown",
   "metadata": {},
   "source": [
    "# Insight 5: Pitchfork does not have a uniform idea about the most successful Billboard albums. It does not review a lot of albums that are on Billboard, but for the ones it does, the mean and median scores are slightly lower than for its entire body of reviews, and standard deviation is higher. "
   ]
  },
  {
   "cell_type": "code",
   "execution_count": 67,
   "metadata": {},
   "outputs": [
    {
     "name": "stdout",
     "output_type": "stream",
     "text": [
      "t-statistic is 1.8843\n",
      "p value is 0.0595\n"
     ]
    }
   ],
   "source": [
    "from scipy import stats\n",
    "t, p = stats.ttest_ind(pf_df.score, over_52weeks.score)\n",
    "print('t-statistic is %.4f' %t)\n",
    "print('p value is %.4f' %p)"
   ]
  },
  {
   "cell_type": "markdown",
   "metadata": {},
   "source": [
    "# There's a slight tendency for Pitchfork to treat commercially successful albums differently than the rest of the albums they review."
   ]
  },
  {
   "cell_type": "markdown",
   "metadata": {},
   "source": [
    "### Step 6. What music do Pitchfork and Billboard (i.e. the public voting with their wallets) agree was the best between 1999 and 2016 inclusive?"
   ]
  },
  {
   "cell_type": "code",
   "execution_count": 90,
   "metadata": {
    "scrolled": true
   },
   "outputs": [
    {
     "data": {
      "text/html": [
       "<div>\n",
       "<table border=\"1\" class=\"dataframe\">\n",
       "  <thead>\n",
       "    <tr style=\"text-align: right;\">\n",
       "      <th></th>\n",
       "      <th>reviewid_main</th>\n",
       "      <th>content</th>\n",
       "      <th>genre</th>\n",
       "      <th>label</th>\n",
       "      <th>title_pf</th>\n",
       "      <th>artist_pf</th>\n",
       "      <th>url</th>\n",
       "      <th>score</th>\n",
       "      <th>best_new_music</th>\n",
       "      <th>author</th>\n",
       "      <th>...</th>\n",
       "      <th>pub_month</th>\n",
       "      <th>pub_year</th>\n",
       "      <th>year</th>\n",
       "      <th>title_nopunc</th>\n",
       "      <th>artist_bb</th>\n",
       "      <th>title_bb</th>\n",
       "      <th>first_week</th>\n",
       "      <th>peakPos</th>\n",
       "      <th>weeks</th>\n",
       "      <th>rank</th>\n",
       "    </tr>\n",
       "  </thead>\n",
       "  <tbody>\n",
       "    <tr>\n",
       "      <th>381</th>\n",
       "      <td>2771</td>\n",
       "      <td>ryan loves it and he likes mmlp too so he's al...</td>\n",
       "      <td>rap</td>\n",
       "      <td>interscope</td>\n",
       "      <td>the eminem show</td>\n",
       "      <td>eminem</td>\n",
       "      <td>http://pitchfork.com/reviews/albums/2771-the-e...</td>\n",
       "      <td>9.1</td>\n",
       "      <td>0</td>\n",
       "      <td>ethan p.</td>\n",
       "      <td>...</td>\n",
       "      <td>6</td>\n",
       "      <td>2002</td>\n",
       "      <td>2002.0</td>\n",
       "      <td>the eminem show</td>\n",
       "      <td>eminem</td>\n",
       "      <td>the eminem show</td>\n",
       "      <td>2002-06-08</td>\n",
       "      <td>1</td>\n",
       "      <td>223</td>\n",
       "      <td>52.960000</td>\n",
       "    </tr>\n",
       "    <tr>\n",
       "      <th>412</th>\n",
       "      <td>9669</td>\n",
       "      <td>John Lennon's \"Glass Onion\", a daffy throwaway...</td>\n",
       "      <td>rock</td>\n",
       "      <td>capitol</td>\n",
       "      <td>love</td>\n",
       "      <td>the beatles</td>\n",
       "      <td>http://pitchfork.com/reviews/albums/9669-love/</td>\n",
       "      <td>8.5</td>\n",
       "      <td>0</td>\n",
       "      <td>mark richardson</td>\n",
       "      <td>...</td>\n",
       "      <td>11</td>\n",
       "      <td>2006</td>\n",
       "      <td>2006.0</td>\n",
       "      <td>love</td>\n",
       "      <td>the beatles</td>\n",
       "      <td>love</td>\n",
       "      <td>2006-12-09</td>\n",
       "      <td>4</td>\n",
       "      <td>84</td>\n",
       "      <td>54.090909</td>\n",
       "    </tr>\n",
       "    <tr>\n",
       "      <th>965</th>\n",
       "      <td>4351</td>\n",
       "      <td>Eight thousand Michael Jackson fans-- the ones...</td>\n",
       "      <td>pop/r&amp;b</td>\n",
       "      <td>sony</td>\n",
       "      <td>the essential michael jackson</td>\n",
       "      <td>michael jackson</td>\n",
       "      <td>http://pitchfork.com/reviews/albums/4351-the-e...</td>\n",
       "      <td>8.7</td>\n",
       "      <td>0</td>\n",
       "      <td>david raposa</td>\n",
       "      <td>...</td>\n",
       "      <td>8</td>\n",
       "      <td>2005</td>\n",
       "      <td>2005.0</td>\n",
       "      <td>the essential michael jackson</td>\n",
       "      <td>michael jackson</td>\n",
       "      <td>the essential michael jackson</td>\n",
       "      <td>2005-08-13</td>\n",
       "      <td>96</td>\n",
       "      <td>126</td>\n",
       "      <td>77.470588</td>\n",
       "    </tr>\n",
       "    <tr>\n",
       "      <th>1153</th>\n",
       "      <td>15585</td>\n",
       "      <td>One of the year's best music videos was direct...</td>\n",
       "      <td>pop/r&amp;b</td>\n",
       "      <td>columbia</td>\n",
       "      <td>4</td>\n",
       "      <td>beyonc</td>\n",
       "      <td>http://pitchfork.com/reviews/albums/15585-4/</td>\n",
       "      <td>8.0</td>\n",
       "      <td>0</td>\n",
       "      <td>ryan dombal</td>\n",
       "      <td>...</td>\n",
       "      <td>6</td>\n",
       "      <td>2011</td>\n",
       "      <td>2011.0</td>\n",
       "      <td>4</td>\n",
       "      <td>beyonce</td>\n",
       "      <td>4</td>\n",
       "      <td>2011-07-16</td>\n",
       "      <td>1</td>\n",
       "      <td>61</td>\n",
       "      <td>43.100000</td>\n",
       "    </tr>\n",
       "    <tr>\n",
       "      <th>1192</th>\n",
       "      <td>14890</td>\n",
       "      <td>For reasons I won't get into here, my little b...</td>\n",
       "      <td>rock</td>\n",
       "      <td>universal</td>\n",
       "      <td>pretty hate machine</td>\n",
       "      <td>nine inch nails</td>\n",
       "      <td>http://pitchfork.com/reviews/albums/14890-pret...</td>\n",
       "      <td>9.5</td>\n",
       "      <td>1</td>\n",
       "      <td>tom breihan</td>\n",
       "      <td>...</td>\n",
       "      <td>11</td>\n",
       "      <td>2010</td>\n",
       "      <td>2010.0</td>\n",
       "      <td>pretty hate machine</td>\n",
       "      <td>nine inch nails</td>\n",
       "      <td>pretty hate machine</td>\n",
       "      <td>2010-12-11</td>\n",
       "      <td>75</td>\n",
       "      <td>75</td>\n",
       "      <td>78.000000</td>\n",
       "    </tr>\n",
       "  </tbody>\n",
       "</table>\n",
       "<p>5 rows × 24 columns</p>\n",
       "</div>"
      ],
      "text/plain": [
       "      reviewid_main                                            content  \\\n",
       "381            2771  ryan loves it and he likes mmlp too so he's al...   \n",
       "412            9669  John Lennon's \"Glass Onion\", a daffy throwaway...   \n",
       "965            4351  Eight thousand Michael Jackson fans-- the ones...   \n",
       "1153          15585  One of the year's best music videos was direct...   \n",
       "1192          14890  For reasons I won't get into here, my little b...   \n",
       "\n",
       "        genre       label                       title_pf        artist_pf  \\\n",
       "381       rap  interscope                the eminem show           eminem   \n",
       "412      rock     capitol                           love      the beatles   \n",
       "965   pop/r&b        sony  the essential michael jackson  michael jackson   \n",
       "1153  pop/r&b    columbia                              4           beyonc   \n",
       "1192     rock   universal            pretty hate machine  nine inch nails   \n",
       "\n",
       "                                                    url  score  \\\n",
       "381   http://pitchfork.com/reviews/albums/2771-the-e...    9.1   \n",
       "412      http://pitchfork.com/reviews/albums/9669-love/    8.5   \n",
       "965   http://pitchfork.com/reviews/albums/4351-the-e...    8.7   \n",
       "1153       http://pitchfork.com/reviews/albums/15585-4/    8.0   \n",
       "1192  http://pitchfork.com/reviews/albums/14890-pret...    9.5   \n",
       "\n",
       "      best_new_music           author    ...     pub_month pub_year    year  \\\n",
       "381                0         ethan p.    ...             6     2002  2002.0   \n",
       "412                0  mark richardson    ...            11     2006  2006.0   \n",
       "965                0     david raposa    ...             8     2005  2005.0   \n",
       "1153               0      ryan dombal    ...             6     2011  2011.0   \n",
       "1192               1      tom breihan    ...            11     2010  2010.0   \n",
       "\n",
       "                       title_nopunc        artist_bb  \\\n",
       "381                 the eminem show           eminem   \n",
       "412                            love      the beatles   \n",
       "965   the essential michael jackson  michael jackson   \n",
       "1153                              4          beyonce   \n",
       "1192            pretty hate machine  nine inch nails   \n",
       "\n",
       "                           title_bb  first_week peakPos weeks       rank  \n",
       "381                 the eminem show  2002-06-08       1   223  52.960000  \n",
       "412                            love  2006-12-09       4    84  54.090909  \n",
       "965   the essential michael jackson  2005-08-13      96   126  77.470588  \n",
       "1153                              4  2011-07-16       1    61  43.100000  \n",
       "1192            pretty hate machine  2010-12-11      75    75  78.000000  \n",
       "\n",
       "[5 rows x 24 columns]"
      ]
     },
     "execution_count": 90,
     "metadata": {},
     "output_type": "execute_result"
    }
   ],
   "source": [
    "pf_bb_dreamteam = df[(df.weeks >=52) & (df.score >=8) & (df.year >= 1999)]\n",
    "pf_bb_dreamteam.head()"
   ]
  },
  {
   "cell_type": "code",
   "execution_count": 92,
   "metadata": {},
   "outputs": [
    {
     "data": {
      "text/plain": [
       "drake                3\n",
       "beyonce              2\n",
       "kendrick lamar       2\n",
       "the beatles          1\n",
       "michael jackson      1\n",
       "justin timberlake    1\n",
       "lil wayne            1\n",
       "kanye west           1\n",
       "eminem               1\n",
       "the strokes          1\n",
       "phoenix              1\n",
       "arctic monkeys       1\n",
       "nine inch nails      1\n",
       "Name: artist_bb, dtype: int64"
      ]
     },
     "execution_count": 92,
     "metadata": {},
     "output_type": "execute_result"
    }
   ],
   "source": [
    "pf_bb_dreamteam.artist_bb.value_counts()"
   ]
  },
  {
   "cell_type": "code",
   "execution_count": 93,
   "metadata": {},
   "outputs": [
    {
     "data": {
      "text/plain": [
       "rap        8\n",
       "rock       5\n",
       "pop/r&b    4\n",
       "Name: genre, dtype: int64"
      ]
     },
     "execution_count": 93,
     "metadata": {},
     "output_type": "execute_result"
    }
   ],
   "source": [
    "pf_bb_dreamteam.genre.value_counts()"
   ]
  },
  {
   "cell_type": "code",
   "execution_count": 94,
   "metadata": {},
   "outputs": [
    {
     "data": {
      "text/plain": [
       "2013.0    3\n",
       "2010.0    2\n",
       "2011.0    2\n",
       "2015.0    1\n",
       "2012.0    1\n",
       "2009.0    1\n",
       "2016.0    1\n",
       "2008.0    1\n",
       "2004.0    1\n",
       "2001.0    1\n",
       "2005.0    1\n",
       "2006.0    1\n",
       "2002.0    1\n",
       "Name: year, dtype: int64"
      ]
     },
     "execution_count": 94,
     "metadata": {},
     "output_type": "execute_result"
    }
   ],
   "source": [
    "pf_bb_dreamteam.year.value_counts()"
   ]
  },
  {
   "cell_type": "markdown",
   "metadata": {},
   "source": [
    "#  Insight 6: All hail Drake, Beyonce, and Kendrick Lamar: they pleased both the general public and the more indie Pitchfork between 1999 and 2016! <br> \n",
    "\n",
    "# Insight 7:  Rap as the most crowdpleasing genre for both general public and indie folks is a surprise for me personally, as rock is what I always perceived it to be. <br> \n",
    "\n",
    "# Insight 8: 2010, 2011, and 2013 were the years allround well-received music was coming out the most (again, if we only consider the data available to us: 1999 to 2016 inclusive.)"
   ]
  }
 ],
 "metadata": {
  "kernelspec": {
   "display_name": "Python 3",
   "language": "python",
   "name": "python3"
  },
  "language_info": {
   "codemirror_mode": {
    "name": "ipython",
    "version": 3
   },
   "file_extension": ".py",
   "mimetype": "text/x-python",
   "name": "python",
   "nbconvert_exporter": "python",
   "pygments_lexer": "ipython3",
   "version": "3.6.0"
  }
 },
 "nbformat": 4,
 "nbformat_minor": 2
}
