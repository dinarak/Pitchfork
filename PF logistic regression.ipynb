{
 "cells": [
  {
   "cell_type": "markdown",
   "metadata": {},
   "source": [
    "# Trying out Logistic Regression on review score bins"
   ]
  },
  {
   "cell_type": "markdown",
   "metadata": {},
   "source": [
    "+  As prework, I binned review scores into three bins:\n",
    "\n",
    " 1. Good score: 8+\n",
    " 2. Mediocre: [7, 8)\n",
    " 3. Bad: < 7 \n",
    "\n",
    "\n",
    "+  Removed reviews with mediocre scores from the data, and placed good scores in bin '1', and bad scores in bin '0'.\n",
    "\n",
    "****\n",
    "\n",
    "+  I also pulled all data on genres for each review from the SQLite database, and created dummy variables for them, since there are only 9 genres. \n",
    "\n",
    "    The result of these manipulations is in 'pf_readyforlogistic1.csv'\n"
   ]
  },
  {
   "cell_type": "code",
   "execution_count": 1,
   "metadata": {
    "collapsed": true
   },
   "outputs": [],
   "source": [
    "import pandas as pd\n",
    "from sklearn import datasets\n",
    "from sklearn.feature_selection import RFE\n",
    "from sklearn.linear_model import LogisticRegression"
   ]
  },
  {
   "cell_type": "code",
   "execution_count": 2,
   "metadata": {},
   "outputs": [
    {
     "name": "stdout",
     "output_type": "stream",
     "text": [
      "<class 'pandas.core.frame.DataFrame'>\n",
      "RangeIndex: 10986 entries, 0 to 10985\n",
      "Data columns (total 32 columns):\n",
      "reviewid              10986 non-null int64\n",
      "Unnamed: 0            10986 non-null int64\n",
      "Unnamed: 0.1          10986 non-null int64\n",
      "content               10986 non-null object\n",
      "genre                 9674 non-null object\n",
      "label                 10964 non-null object\n",
      "title                 10986 non-null object\n",
      "artist                10986 non-null object\n",
      "url                   10986 non-null object\n",
      "score                 10986 non-null float64\n",
      "best_new_music        10986 non-null int64\n",
      "author                10986 non-null object\n",
      "author_type           8561 non-null object\n",
      "pub_date              10986 non-null datetime64[ns]\n",
      "pub_weekday           10986 non-null int64\n",
      "pub_day               10986 non-null int64\n",
      "pub_month             10986 non-null int64\n",
      "pub_year              10986 non-null int64\n",
      "year                  10705 non-null float64\n",
      "content_words         10986 non-null int64\n",
      "subjectivity          10986 non-null float64\n",
      "polarity              10986 non-null float64\n",
      "score_bin             10986 non-null int64\n",
      "genre_experimental    10986 non-null int64\n",
      "genre_folk/country    10986 non-null int64\n",
      "genre_global          10986 non-null int64\n",
      "genre_jazz            10986 non-null int64\n",
      "genre_metal           10986 non-null int64\n",
      "genre_pop/r&b         10986 non-null int64\n",
      "genre_rap             10986 non-null int64\n",
      "genre_rock            10986 non-null int64\n",
      "sum_genres            0 non-null float64\n",
      "dtypes: datetime64[ns](1), float64(5), int64(18), object(8)\n",
      "memory usage: 2.7+ MB\n"
     ]
    }
   ],
   "source": [
    "df = pd.read_csv('pf_readyforlogistic1.csv', parse_dates = ['pub_date'], encoding=\"ISO-8859-1\")\n",
    "df.info()"
   ]
  },
  {
   "cell_type": "code",
   "execution_count": 5,
   "metadata": {
    "collapsed": true
   },
   "outputs": [],
   "source": [
    "df = df.drop(['genre'], axis = 1)"
   ]
  },
  {
   "cell_type": "code",
   "execution_count": 6,
   "metadata": {
    "scrolled": true
   },
   "outputs": [
    {
     "name": "stdout",
     "output_type": "stream",
     "text": [
      "<class 'pandas.core.frame.DataFrame'>\n",
      "RangeIndex: 10986 entries, 0 to 10985\n",
      "Data columns (total 31 columns):\n",
      "reviewid              10986 non-null int64\n",
      "Unnamed: 0            10986 non-null int64\n",
      "Unnamed: 0.1          10986 non-null int64\n",
      "content               10986 non-null object\n",
      "label                 10964 non-null object\n",
      "title                 10986 non-null object\n",
      "artist                10986 non-null object\n",
      "url                   10986 non-null object\n",
      "score                 10986 non-null float64\n",
      "best_new_music        10986 non-null int64\n",
      "author                10986 non-null object\n",
      "author_type           8561 non-null object\n",
      "pub_date              10986 non-null datetime64[ns]\n",
      "pub_weekday           10986 non-null int64\n",
      "pub_day               10986 non-null int64\n",
      "pub_month             10986 non-null int64\n",
      "pub_year              10986 non-null int64\n",
      "year                  10705 non-null float64\n",
      "content_words         10986 non-null int64\n",
      "subjectivity          10986 non-null float64\n",
      "polarity              10986 non-null float64\n",
      "score_bin             10986 non-null int64\n",
      "genre_experimental    10986 non-null int64\n",
      "genre_folk/country    10986 non-null int64\n",
      "genre_global          10986 non-null int64\n",
      "genre_jazz            10986 non-null int64\n",
      "genre_metal           10986 non-null int64\n",
      "genre_pop/r&b         10986 non-null int64\n",
      "genre_rap             10986 non-null int64\n",
      "genre_rock            10986 non-null int64\n",
      "sum_genres            0 non-null float64\n",
      "dtypes: datetime64[ns](1), float64(5), int64(18), object(7)\n",
      "memory usage: 2.6+ MB\n"
     ]
    }
   ],
   "source": [
    "df.info()"
   ]
  },
  {
   "cell_type": "code",
   "execution_count": 92,
   "metadata": {},
   "outputs": [
    {
     "data": {
      "text/html": [
       "<div>\n",
       "<table border=\"1\" class=\"dataframe\">\n",
       "  <thead>\n",
       "    <tr style=\"text-align: right;\">\n",
       "      <th></th>\n",
       "      <th>reviewid</th>\n",
       "      <th>Unnamed: 0</th>\n",
       "      <th>Unnamed: 0.1</th>\n",
       "      <th>content</th>\n",
       "      <th>label</th>\n",
       "      <th>title</th>\n",
       "      <th>artist</th>\n",
       "      <th>url</th>\n",
       "      <th>score</th>\n",
       "      <th>best_new_music</th>\n",
       "      <th>...</th>\n",
       "      <th>score_bin</th>\n",
       "      <th>genre_experimental</th>\n",
       "      <th>genre_folk/country</th>\n",
       "      <th>genre_global</th>\n",
       "      <th>genre_jazz</th>\n",
       "      <th>genre_metal</th>\n",
       "      <th>genre_pop/r&amp;b</th>\n",
       "      <th>genre_rap</th>\n",
       "      <th>genre_rock</th>\n",
       "      <th>sum_genres</th>\n",
       "    </tr>\n",
       "  </thead>\n",
       "  <tbody>\n",
       "    <tr>\n",
       "      <th>0</th>\n",
       "      <td>1</td>\n",
       "      <td>0</td>\n",
       "      <td>0</td>\n",
       "      <td>Aberfeldy recorded their debut, Young Forever,...</td>\n",
       "      <td>rough trade</td>\n",
       "      <td>young forever</td>\n",
       "      <td>aberfeldy</td>\n",
       "      <td>http://pitchfork.com/reviews/albums/1-young-fo...</td>\n",
       "      <td>3.4</td>\n",
       "      <td>0</td>\n",
       "      <td>...</td>\n",
       "      <td>0</td>\n",
       "      <td>0</td>\n",
       "      <td>0</td>\n",
       "      <td>0</td>\n",
       "      <td>0</td>\n",
       "      <td>0</td>\n",
       "      <td>0</td>\n",
       "      <td>0</td>\n",
       "      <td>1</td>\n",
       "      <td>NaN</td>\n",
       "    </tr>\n",
       "    <tr>\n",
       "      <th>1</th>\n",
       "      <td>7</td>\n",
       "      <td>2</td>\n",
       "      <td>2</td>\n",
       "      <td>Funny what gets tagged for popular comebacks t...</td>\n",
       "      <td>darla</td>\n",
       "      <td>or you could just go through your whole life a...</td>\n",
       "      <td>aarktica</td>\n",
       "      <td>http://pitchfork.com/reviews/albums/7-or-you-c...</td>\n",
       "      <td>8.1</td>\n",
       "      <td>0</td>\n",
       "      <td>...</td>\n",
       "      <td>1</td>\n",
       "      <td>0</td>\n",
       "      <td>0</td>\n",
       "      <td>0</td>\n",
       "      <td>0</td>\n",
       "      <td>0</td>\n",
       "      <td>0</td>\n",
       "      <td>0</td>\n",
       "      <td>0</td>\n",
       "      <td>NaN</td>\n",
       "    </tr>\n",
       "    <tr>\n",
       "      <th>2</th>\n",
       "      <td>10</td>\n",
       "      <td>4</td>\n",
       "      <td>4</td>\n",
       "      <td>ABCS are all about unity.  Their bandname come...</td>\n",
       "      <td>troubleman unlimited</td>\n",
       "      <td>abcs</td>\n",
       "      <td>abcs</td>\n",
       "      <td>http://pitchfork.com/reviews/albums/10-abcs/</td>\n",
       "      <td>8.0</td>\n",
       "      <td>0</td>\n",
       "      <td>...</td>\n",
       "      <td>1</td>\n",
       "      <td>0</td>\n",
       "      <td>0</td>\n",
       "      <td>0</td>\n",
       "      <td>1</td>\n",
       "      <td>0</td>\n",
       "      <td>0</td>\n",
       "      <td>0</td>\n",
       "      <td>0</td>\n",
       "      <td>NaN</td>\n",
       "    </tr>\n",
       "    <tr>\n",
       "      <th>3</th>\n",
       "      <td>15</td>\n",
       "      <td>7</td>\n",
       "      <td>7</td>\n",
       "      <td>Brad Nessler: Welcome to our wrap-up of Game F...</td>\n",
       "      <td>deconstruction</td>\n",
       "      <td>love &amp; hate</td>\n",
       "      <td>aceyalone</td>\n",
       "      <td>http://pitchfork.com/reviews/albums/15-love-hate/</td>\n",
       "      <td>6.7</td>\n",
       "      <td>0</td>\n",
       "      <td>...</td>\n",
       "      <td>0</td>\n",
       "      <td>0</td>\n",
       "      <td>0</td>\n",
       "      <td>0</td>\n",
       "      <td>0</td>\n",
       "      <td>0</td>\n",
       "      <td>0</td>\n",
       "      <td>1</td>\n",
       "      <td>1</td>\n",
       "      <td>NaN</td>\n",
       "    </tr>\n",
       "    <tr>\n",
       "      <th>4</th>\n",
       "      <td>18</td>\n",
       "      <td>10</td>\n",
       "      <td>10</td>\n",
       "      <td>This should be great. On albums like 1995's Al...</td>\n",
       "      <td>decon</td>\n",
       "      <td>magnificent city</td>\n",
       "      <td>aceyalone</td>\n",
       "      <td>http://pitchfork.com/reviews/albums/18-magnifi...</td>\n",
       "      <td>3.2</td>\n",
       "      <td>0</td>\n",
       "      <td>...</td>\n",
       "      <td>0</td>\n",
       "      <td>0</td>\n",
       "      <td>0</td>\n",
       "      <td>0</td>\n",
       "      <td>0</td>\n",
       "      <td>0</td>\n",
       "      <td>0</td>\n",
       "      <td>1</td>\n",
       "      <td>1</td>\n",
       "      <td>NaN</td>\n",
       "    </tr>\n",
       "  </tbody>\n",
       "</table>\n",
       "<p>5 rows × 31 columns</p>\n",
       "</div>"
      ],
      "text/plain": [
       "   reviewid  Unnamed: 0  Unnamed: 0.1  \\\n",
       "0         1           0             0   \n",
       "1         7           2             2   \n",
       "2        10           4             4   \n",
       "3        15           7             7   \n",
       "4        18          10            10   \n",
       "\n",
       "                                             content                 label  \\\n",
       "0  Aberfeldy recorded their debut, Young Forever,...           rough trade   \n",
       "1  Funny what gets tagged for popular comebacks t...                 darla   \n",
       "2  ABCS are all about unity.  Their bandname come...  troubleman unlimited   \n",
       "3  Brad Nessler: Welcome to our wrap-up of Game F...        deconstruction   \n",
       "4  This should be great. On albums like 1995's Al...                 decon   \n",
       "\n",
       "                                               title     artist  \\\n",
       "0                                      young forever  aberfeldy   \n",
       "1  or you could just go through your whole life a...   aarktica   \n",
       "2                                               abcs       abcs   \n",
       "3                                        love & hate  aceyalone   \n",
       "4                                   magnificent city  aceyalone   \n",
       "\n",
       "                                                 url  score  best_new_music  \\\n",
       "0  http://pitchfork.com/reviews/albums/1-young-fo...    3.4               0   \n",
       "1  http://pitchfork.com/reviews/albums/7-or-you-c...    8.1               0   \n",
       "2       http://pitchfork.com/reviews/albums/10-abcs/    8.0               0   \n",
       "3  http://pitchfork.com/reviews/albums/15-love-hate/    6.7               0   \n",
       "4  http://pitchfork.com/reviews/albums/18-magnifi...    3.2               0   \n",
       "\n",
       "      ...     score_bin genre_experimental genre_folk/country  genre_global  \\\n",
       "0     ...             0                  0                  0             0   \n",
       "1     ...             1                  0                  0             0   \n",
       "2     ...             1                  0                  0             0   \n",
       "3     ...             0                  0                  0             0   \n",
       "4     ...             0                  0                  0             0   \n",
       "\n",
       "   genre_jazz  genre_metal  genre_pop/r&b  genre_rap  genre_rock  sum_genres  \n",
       "0           0            0              0          0           1         NaN  \n",
       "1           0            0              0          0           0         NaN  \n",
       "2           1            0              0          0           0         NaN  \n",
       "3           0            0              0          1           1         NaN  \n",
       "4           0            0              0          1           1         NaN  \n",
       "\n",
       "[5 rows x 31 columns]"
      ]
     },
     "execution_count": 92,
     "metadata": {},
     "output_type": "execute_result"
    }
   ],
   "source": [
    "df.head()"
   ]
  },
  {
   "cell_type": "code",
   "execution_count": 9,
   "metadata": {
    "collapsed": true
   },
   "outputs": [],
   "source": [
    "import re\n",
    "y = ['score_bin']\n",
    "X = ['content_words', 'pub_weekday', 'pub_day', 'pub_month', 'pub_year', 'content_words', 'subjectivity', 'polarity']\n",
    "X_extension = [x for x in df.columns if re.match('genre_', x)]\n",
    "X.extend(X_extension)"
   ]
  },
  {
   "cell_type": "markdown",
   "metadata": {},
   "source": [
    "## As a first stab, let's try to select six features to try to predict score bins"
   ]
  },
  {
   "cell_type": "code",
   "execution_count": 26,
   "metadata": {},
   "outputs": [
    {
     "name": "stderr",
     "output_type": "stream",
     "text": [
      "C:\\Users\\Dinara\\Anaconda3\\lib\\site-packages\\sklearn\\cross_validation.py:44: DeprecationWarning: This module was deprecated in version 0.18 in favor of the model_selection module into which all the refactored classes and functions are moved. Also note that the interface of the new CV iterators are different from that of this module. This module will be removed in 0.20.\n",
      "  \"This module will be removed in 0.20.\", DeprecationWarning)\n",
      "C:\\Users\\Dinara\\Anaconda3\\lib\\site-packages\\IPython\\html.py:14: ShimWarning: The `IPython.html` package has been deprecated. You should import from `notebook` instead. `IPython.html.widgets` has moved to `ipywidgets`.\n",
      "  \"`IPython.html.widgets` has moved to `ipywidgets`.\", ShimWarning)\n",
      "C:\\Users\\Dinara\\Anaconda3\\lib\\site-packages\\sklearn\\utils\\validation.py:526: DataConversionWarning: A column-vector y was passed when a 1d array was expected. Please change the shape of y to (n_samples, ), for example using ravel().\n",
      "  y = column_or_1d(y, warn=True)\n"
     ]
    },
    {
     "name": "stdout",
     "output_type": "stream",
     "text": [
      "[False False False False False False  True  True  True False  True  True\n",
      " False  True False False]\n",
      "[ 9  7 11  8 10  6  1  1  1  4  1  1  5  1  3  2]\n"
     ]
    }
   ],
   "source": [
    "import pandas as pd\n",
    "import numpy as np\n",
    "from sklearn import preprocessing\n",
    "import matplotlib.pyplot as plt \n",
    "plt.rc(\"font\", size=14)\n",
    "from sklearn.linear_model import LogisticRegression\n",
    "from sklearn.cross_validation import train_test_split\n",
    "import seaborn as sns\n",
    "sns.set(style=\"white\")\n",
    "sns.set(style=\"whitegrid\", color_codes=True)\n",
    "\n",
    "logreg = LogisticRegression()\n",
    "\n",
    "rfe = RFE(logreg, 6)\n",
    "rfe = rfe.fit(df[X], df[y])\n",
    "print(rfe.support_)\n",
    "print(rfe.ranking_)"
   ]
  },
  {
   "cell_type": "code",
   "execution_count": 27,
   "metadata": {},
   "outputs": [
    {
     "data": {
      "text/plain": [
       "['subjectivity',\n",
       " 'polarity',\n",
       " 'genre_experimental',\n",
       " 'genre_global',\n",
       " 'genre_jazz',\n",
       " 'genre_pop/r&b']"
      ]
     },
     "execution_count": 27,
     "metadata": {},
     "output_type": "execute_result"
    }
   ],
   "source": [
    "# cols are the list of column names that we will use in logistic regression\n",
    "cols = [u for v,u in zip(rfe.support_, X) if v]\n",
    "cols"
   ]
  },
  {
   "cell_type": "code",
   "execution_count": 28,
   "metadata": {},
   "outputs": [
    {
     "data": {
      "text/plain": [
       "['content_words',\n",
       " 'pub_weekday',\n",
       " 'pub_day',\n",
       " 'pub_month',\n",
       " 'pub_year',\n",
       " 'content_words',\n",
       " 'subjectivity',\n",
       " 'polarity',\n",
       " 'genre_experimental',\n",
       " 'genre_folk/country',\n",
       " 'genre_global',\n",
       " 'genre_jazz',\n",
       " 'genre_metal',\n",
       " 'genre_pop/r&b',\n",
       " 'genre_rap',\n",
       " 'genre_rock']"
      ]
     },
     "execution_count": 28,
     "metadata": {},
     "output_type": "execute_result"
    }
   ],
   "source": [
    "X"
   ]
  },
  {
   "cell_type": "code",
   "execution_count": 29,
   "metadata": {
    "collapsed": true
   },
   "outputs": [],
   "source": [
    "X_LogisticR=df[cols]\n",
    "y_LogisticR=df[y]"
   ]
  },
  {
   "cell_type": "code",
   "execution_count": 30,
   "metadata": {},
   "outputs": [
    {
     "name": "stdout",
     "output_type": "stream",
     "text": [
      "Optimization terminated successfully.\n",
      "         Current function value: 0.632860\n",
      "         Iterations 5\n",
      "                           Logit Regression Results                           \n",
      "==============================================================================\n",
      "Dep. Variable:              score_bin   No. Observations:                10986\n",
      "Model:                          Logit   Df Residuals:                    10980\n",
      "Method:                           MLE   Df Model:                            5\n",
      "Date:                Sat, 17 Mar 2018   Pseudo R-squ.:                 0.02081\n",
      "Time:                        19:56:42   Log-Likelihood:                -6952.6\n",
      "converged:                       True   LL-Null:                       -7100.3\n",
      "                                        LLR p-value:                 9.516e-62\n",
      "======================================================================================\n",
      "                         coef    std err          z      P>|z|      [0.025      0.975]\n",
      "--------------------------------------------------------------------------------------\n",
      "subjectivity          -2.4249      0.100    -24.173      0.000      -2.622      -2.228\n",
      "polarity               4.1776      0.359     11.653      0.000       3.475       4.880\n",
      "genre_experimental     0.6544      0.067      9.758      0.000       0.523       0.786\n",
      "genre_global           0.9713      0.184      5.270      0.000       0.610       1.333\n",
      "genre_jazz             0.6664      0.130      5.138      0.000       0.412       0.921\n",
      "genre_pop/r&b         -0.3958      0.080     -4.950      0.000      -0.553      -0.239\n",
      "======================================================================================\n"
     ]
    }
   ],
   "source": [
    "import statsmodels.api as sm\n",
    "logit_model=sm.Logit(y_LogisticR,X_LogisticR)\n",
    "result=logit_model.fit()\n",
    "print(result.summary())"
   ]
  },
  {
   "cell_type": "markdown",
   "metadata": {},
   "source": [
    "## The p-values for most of the variables are smaller than 0.05, therefore, most of them are significant to the model (???)"
   ]
  },
  {
   "cell_type": "code",
   "execution_count": 31,
   "metadata": {},
   "outputs": [
    {
     "data": {
      "text/plain": [
       "LogisticRegression(C=1.0, class_weight=None, dual=False, fit_intercept=True,\n",
       "          intercept_scaling=1, max_iter=100, multi_class='ovr', n_jobs=1,\n",
       "          penalty='l2', random_state=None, solver='liblinear', tol=0.0001,\n",
       "          verbose=0, warm_start=False)"
      ]
     },
     "execution_count": 31,
     "metadata": {},
     "output_type": "execute_result"
    }
   ],
   "source": [
    "X_train, X_test, y_train, y_test = train_test_split(X_LogisticR, y_LogisticR.values.ravel(), test_size=0.3, random_state=0)\n",
    "from sklearn.linear_model import LogisticRegression\n",
    "from sklearn import metrics\n",
    "logreg = LogisticRegression()\n",
    "logreg.fit(X_train, y_train)"
   ]
  },
  {
   "cell_type": "code",
   "execution_count": 32,
   "metadata": {},
   "outputs": [
    {
     "name": "stdout",
     "output_type": "stream",
     "text": [
      "Accuracy of logistic regression classifier on test set: 0.66\n"
     ]
    }
   ],
   "source": [
    "y_pred = logreg.predict(X_test)\n",
    "print('Accuracy of logistic regression classifier on test set: {:.2f}'.format(logreg.score(X_test, y_test)))"
   ]
  },
  {
   "cell_type": "code",
   "execution_count": 33,
   "metadata": {},
   "outputs": [
    {
     "name": "stdout",
     "output_type": "stream",
     "text": [
      "10-fold cross validation average accuracy: 0.659\n"
     ]
    }
   ],
   "source": [
    "from sklearn import model_selection\n",
    "from sklearn.model_selection import cross_val_score\n",
    "kfold = model_selection.KFold(n_splits=10, random_state=7)\n",
    "modelCV = LogisticRegression()\n",
    "scoring = 'accuracy'\n",
    "results = model_selection.cross_val_score(modelCV, X_train, y_train, cv=kfold, scoring=scoring)\n",
    "print(\"10-fold cross validation average accuracy: %.3f\" % (results.mean()))"
   ]
  },
  {
   "cell_type": "code",
   "execution_count": 34,
   "metadata": {},
   "outputs": [
    {
     "name": "stdout",
     "output_type": "stream",
     "text": [
      "[[2084   82]\n",
      " [1030  100]]\n"
     ]
    }
   ],
   "source": [
    "from sklearn.metrics import confusion_matrix\n",
    "confusion_matrix = confusion_matrix(y_test, y_pred)\n",
    "print(confusion_matrix)"
   ]
  },
  {
   "cell_type": "code",
   "execution_count": 35,
   "metadata": {},
   "outputs": [
    {
     "name": "stdout",
     "output_type": "stream",
     "text": [
      "             precision    recall  f1-score   support\n",
      "\n",
      "          0       0.67      0.96      0.79      2166\n",
      "          1       0.55      0.09      0.15      1130\n",
      "\n",
      "avg / total       0.63      0.66      0.57      3296\n",
      "\n"
     ]
    }
   ],
   "source": [
    "from sklearn.metrics import classification_report\n",
    "print(classification_report(y_test, y_pred))"
   ]
  },
  {
   "cell_type": "markdown",
   "metadata": {},
   "source": [
    "## ROC Curve.\n",
    "### The red dotted line is a random classifier.  A good classifier stays as far away from that line as possible."
   ]
  },
  {
   "cell_type": "code",
   "execution_count": 36,
   "metadata": {},
   "outputs": [
    {
     "data": {
      "image/png": "[encoded data removed]",
      "text/plain": [
       "<matplotlib.figure.Figure at 0x177c5cebe10>"
      ]
     },
     "metadata": {},
     "output_type": "display_data"
    }
   ],
   "source": [
    "from sklearn.metrics import roc_auc_score\n",
    "from sklearn.metrics import roc_curve\n",
    "logit_roc_auc = roc_auc_score(y_test, logreg.predict(X_test))\n",
    "fpr, tpr, thresholds = roc_curve(y_test, logreg.predict_proba(X_test)[:,1])\n",
    "plt.figure()\n",
    "plt.plot(fpr, tpr, label='Logistic Regression (area = %0.2f)' % logit_roc_auc)\n",
    "plt.plot([0, 1], [0, 1],'r--')\n",
    "plt.xlim([0.0, 1.0])\n",
    "plt.ylim([0.0, 1.05])\n",
    "plt.xlabel('False Positive Rate')\n",
    "plt.ylabel('True Positive Rate')\n",
    "plt.title('Receiver operating characteristic')\n",
    "plt.legend(loc=\"lower right\")\n",
    "plt.savefig('Log_ROC')\n",
    "plt.show()"
   ]
  },
  {
   "cell_type": "markdown",
   "metadata": {},
   "source": [
    "## I tried with different numbers of predictor variables. It turns out having 8 predictor variables maximizes f1 score to 5.8."
   ]
  },
  {
   "cell_type": "code",
   "execution_count": 82,
   "metadata": {},
   "outputs": [
    {
     "name": "stderr",
     "output_type": "stream",
     "text": [
      "C:\\Users\\Dinara\\Anaconda3\\lib\\site-packages\\sklearn\\utils\\validation.py:526: DataConversionWarning: A column-vector y was passed when a 1d array was expected. Please change the shape of y to (n_samples, ), for example using ravel().\n",
      "  y = column_or_1d(y, warn=True)\n"
     ]
    },
    {
     "name": "stdout",
     "output_type": "stream",
     "text": [
      "[False False False False False False  True  True  True False  True  True\n",
      " False  True  True  True]\n",
      "[7 5 9 6 8 4 1 1 1 2 1 1 3 1 1 1]\n"
     ]
    }
   ],
   "source": [
    "y = ['score_bin']\n",
    "logreg = LogisticRegression()\n",
    "\n",
    "rfe = RFE(logreg, 8)\n",
    "rfe = rfe.fit(df[X], df[y])\n",
    "print(rfe.support_)\n",
    "print(rfe.ranking_)"
   ]
  },
  {
   "cell_type": "code",
   "execution_count": 83,
   "metadata": {},
   "outputs": [
    {
     "data": {
      "text/plain": [
       "['subjectivity',\n",
       " 'polarity',\n",
       " 'genre_experimental',\n",
       " 'genre_global',\n",
       " 'genre_jazz',\n",
       " 'genre_pop/r&b',\n",
       " 'genre_rap',\n",
       " 'genre_rock']"
      ]
     },
     "execution_count": 83,
     "metadata": {},
     "output_type": "execute_result"
    }
   ],
   "source": [
    "cols = [u for v,u in zip(rfe.support_, X) if v]\n",
    "cols"
   ]
  },
  {
   "cell_type": "code",
   "execution_count": 84,
   "metadata": {},
   "outputs": [
    {
     "name": "stdout",
     "output_type": "stream",
     "text": [
      "Optimization terminated successfully.\n",
      "         Current function value: 0.630243\n",
      "         Iterations 5\n",
      "                           Logit Regression Results                           \n",
      "==============================================================================\n",
      "Dep. Variable:              score_bin   No. Observations:                10986\n",
      "Model:                          Logit   Df Residuals:                    10978\n",
      "Method:                           MLE   Df Model:                            7\n",
      "Date:                Sat, 17 Mar 2018   Pseudo R-squ.:                 0.02485\n",
      "Time:                        20:26:53   Log-Likelihood:                -6923.9\n",
      "converged:                       True   LL-Null:                       -7100.3\n",
      "                                        LLR p-value:                 2.880e-72\n",
      "======================================================================================\n",
      "                         coef    std err          z      P>|z|      [0.025      0.975]\n",
      "--------------------------------------------------------------------------------------\n",
      "subjectivity          -1.9792      0.116    -17.128      0.000      -2.206      -1.753\n",
      "polarity               4.1283      0.360     11.481      0.000       3.424       4.833\n",
      "genre_experimental     0.6660      0.068      9.854      0.000       0.534       0.799\n",
      "genre_global           0.8638      0.185      4.675      0.000       0.502       1.226\n",
      "genre_jazz             0.5402      0.131      4.120      0.000       0.283       0.797\n",
      "genre_pop/r&b         -0.5399      0.082     -6.555      0.000      -0.701      -0.378\n",
      "genre_rap             -0.3178      0.078     -4.058      0.000      -0.471      -0.164\n",
      "genre_rock            -0.3239      0.044     -7.318      0.000      -0.411      -0.237\n",
      "======================================================================================\n"
     ]
    }
   ],
   "source": [
    "X_LogisticR=df[cols]\n",
    "y_LogisticR=df[y]\n",
    "logit_model=sm.Logit(y_LogisticR,X_LogisticR)\n",
    "result=logit_model.fit()\n",
    "print(result.summary())"
   ]
  },
  {
   "cell_type": "code",
   "execution_count": 85,
   "metadata": {},
   "outputs": [
    {
     "data": {
      "text/plain": [
       "LogisticRegression(C=1.0, class_weight=None, dual=False, fit_intercept=True,\n",
       "          intercept_scaling=1, max_iter=100, multi_class='ovr', n_jobs=1,\n",
       "          penalty='l2', random_state=None, solver='liblinear', tol=0.0001,\n",
       "          verbose=0, warm_start=False)"
      ]
     },
     "execution_count": 85,
     "metadata": {},
     "output_type": "execute_result"
    }
   ],
   "source": [
    "X_train, X_test, y_train, y_test = train_test_split(X_LogisticR, y_LogisticR.values.ravel(), test_size=0.3, random_state=0)\n",
    "logreg = LogisticRegression()\n",
    "logreg.fit(X_train, y_train)"
   ]
  },
  {
   "cell_type": "code",
   "execution_count": 86,
   "metadata": {},
   "outputs": [
    {
     "name": "stdout",
     "output_type": "stream",
     "text": [
      "Accuracy of logistic regression classifier on test set: 0.66\n"
     ]
    }
   ],
   "source": [
    "y_pred = logreg.predict(X_test)\n",
    "print('Accuracy of logistic regression classifier on test set: {:.2f}'.format(logreg.score(X_test, y_test)))"
   ]
  },
  {
   "cell_type": "code",
   "execution_count": 87,
   "metadata": {},
   "outputs": [
    {
     "name": "stdout",
     "output_type": "stream",
     "text": [
      "10-fold cross validation average accuracy: 0.661\n"
     ]
    }
   ],
   "source": [
    "kfold = model_selection.KFold(n_splits=10, random_state=7)\n",
    "modelCV = LogisticRegression()\n",
    "scoring = 'accuracy'\n",
    "results = model_selection.cross_val_score(modelCV, X_train, y_train, cv=kfold, scoring=scoring)\n",
    "print(\"10-fold cross validation average accuracy: %.3f\" % (results.mean()))"
   ]
  },
  {
   "cell_type": "code",
   "execution_count": 88,
   "metadata": {},
   "outputs": [
    {
     "name": "stdout",
     "output_type": "stream",
     "text": [
      "[[2073   93]\n",
      " [1019  111]]\n"
     ]
    }
   ],
   "source": [
    "from sklearn.metrics import confusion_matrix\n",
    "confusion_matrix1 = confusion_matrix(y_test, y_pred)\n",
    "print(confusion_matrix1)"
   ]
  },
  {
   "cell_type": "code",
   "execution_count": 89,
   "metadata": {},
   "outputs": [
    {
     "name": "stdout",
     "output_type": "stream",
     "text": [
      "             precision    recall  f1-score   support\n",
      "\n",
      "          0       0.67      0.96      0.79      2166\n",
      "          1       0.54      0.10      0.17      1130\n",
      "\n",
      "avg / total       0.63      0.66      0.58      3296\n",
      "\n"
     ]
    }
   ],
   "source": [
    "print(classification_report(y_test, y_pred))"
   ]
  },
  {
   "cell_type": "code",
   "execution_count": 90,
   "metadata": {
    "scrolled": true
   },
   "outputs": [
    {
     "data": {
      "image/png": "[encoded data removed]",
      "text/plain": [
       "<matplotlib.figure.Figure at 0x177c5f3e4a8>"
      ]
     },
     "metadata": {},
     "output_type": "display_data"
    }
   ],
   "source": [
    "logit_roc_auc = roc_auc_score(y_test, logreg.predict(X_test))\n",
    "fpr, tpr, thresholds = roc_curve(y_test, logreg.predict_proba(X_test)[:,1])\n",
    "plt.figure()\n",
    "plt.plot(fpr, tpr, label='Logistic Regression (area = %0.2f)' % logit_roc_auc)\n",
    "plt.plot([0, 1], [0, 1],'r--')\n",
    "plt.xlim([0.0, 1.0])\n",
    "plt.ylim([0.0, 1.05])\n",
    "plt.xlabel('False Positive Rate')\n",
    "plt.ylabel('True Positive Rate')\n",
    "plt.title('Receiver operating characteristic')\n",
    "plt.legend(loc=\"lower right\")\n",
    "plt.savefig('Log_ROC')\n",
    "plt.show()"
   ]
  },
  {
   "cell_type": "code",
   "execution_count": null,
   "metadata": {
    "collapsed": true
   },
   "outputs": [],
   "source": []
  }
 ],
 "metadata": {
  "kernelspec": {
   "display_name": "Python 3",
   "language": "python",
   "name": "python3"
  },
  "language_info": {
   "codemirror_mode": {
    "name": "ipython",
    "version": 3
   },
   "file_extension": ".py",
   "mimetype": "text/x-python",
   "name": "python",
   "nbconvert_exporter": "python",
   "pygments_lexer": "ipython3",
   "version": "3.6.0"
  }
 },
 "nbformat": 4,
 "nbformat_minor": 2
}
